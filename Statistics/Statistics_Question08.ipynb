{
 "cells": [
  {
   "cell_type": "code",
   "execution_count": 3,
   "id": "8ebf0ba7",
   "metadata": {},
   "outputs": [],
   "source": [
    "from scipy.stats import wilcoxon"
   ]
  },
  {
   "cell_type": "code",
   "execution_count": 4,
   "id": "17957ad5",
   "metadata": {},
   "outputs": [],
   "source": [
    "# Define the data\n",
    "before_therapy = [10,8,12,15,6,9,11,7,14,10]\n",
    "after_therapy = [7,6,10,12,5,8,9,6,12,8]\n",
    "difference = [after - before for before, after in zip(before_therapy, after_therapy)]\n",
    "\n"
   ]
  },
  {
   "cell_type": "code",
   "execution_count": 5,
   "id": "2d09f88f",
   "metadata": {},
   "outputs": [
    {
     "name": "stdout",
     "output_type": "stream",
     "text": [
      "Wilcoxon signed-rank test:\n",
      "Statistic: 0.0\n",
      "P-value: 0.001953125\n"
     ]
    }
   ],
   "source": [
    "# Perform the Wilcoxon signed-rank test\n",
    "statistic, p_value = wilcoxon(difference)\n",
    "\n",
    "# Print the results\n",
    "print(\"Wilcoxon signed-rank test:\")\n",
    "print(f\"Statistic: {statistic}\")\n",
    "print(f\"P-value: {p_value}\")"
   ]
  },
  {
   "cell_type": "code",
   "execution_count": null,
   "id": "19095395",
   "metadata": {},
   "outputs": [],
   "source": []
  }
 ],
 "metadata": {
  "kernelspec": {
   "display_name": "Python 3 (ipykernel)",
   "language": "python",
   "name": "python3"
  },
  "language_info": {
   "codemirror_mode": {
    "name": "ipython",
    "version": 3
   },
   "file_extension": ".py",
   "mimetype": "text/x-python",
   "name": "python",
   "nbconvert_exporter": "python",
   "pygments_lexer": "ipython3",
   "version": "3.9.12"
  }
 },
 "nbformat": 4,
 "nbformat_minor": 5
}
