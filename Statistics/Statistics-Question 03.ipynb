{
 "cells": [
  {
   "cell_type": "markdown",
   "id": "c5617c0e",
   "metadata": {},
   "source": [
    "Q-3. Consider the ‘Blood Pressure Before’ and ‘Blood Pressure After’ columns from the data and calculate the following \n",
    "https://drive.google.com/file/d/1mCjtYHiX--mMUjicuaP2gH3k-SnFxt8Y/view?usp=share_ \n",
    "\n",
    "a. Measure the dispersion in both and interpret the results.\n",
    "\n",
    "b. Calculate mean and 5% confidence interval and plot it in a graph \n",
    "\n",
    "c. Calculate the Mean absolute deviation and Standard deviation and interpret the results.\n",
    "\n",
    "d. Calculate the correlation coefficient and check the significance of it at 1% level of significance. \n"
   ]
  },
  {
   "cell_type": "code",
   "execution_count": 7,
   "id": "b5d9885d",
   "metadata": {},
   "outputs": [],
   "source": [
    "# Load the libraries\n",
    "import numpy as np\n",
    "import pandas as pd\n"
   ]
  },
  {
   "cell_type": "code",
   "execution_count": 8,
   "id": "04ba7492",
   "metadata": {},
   "outputs": [
    {
     "data": {
      "text/html": [
       "<div>\n",
       "<style scoped>\n",
       "    .dataframe tbody tr th:only-of-type {\n",
       "        vertical-align: middle;\n",
       "    }\n",
       "\n",
       "    .dataframe tbody tr th {\n",
       "        vertical-align: top;\n",
       "    }\n",
       "\n",
       "    .dataframe thead th {\n",
       "        text-align: right;\n",
       "    }\n",
       "</style>\n",
       "<table border=\"1\" class=\"dataframe\">\n",
       "  <thead>\n",
       "    <tr style=\"text-align: right;\">\n",
       "      <th></th>\n",
       "      <th>Patient ID</th>\n",
       "      <th>Blood Pressure After (mmHg)</th>\n",
       "      <th>Blood Pressure Before (mmHg)</th>\n",
       "    </tr>\n",
       "  </thead>\n",
       "  <tbody>\n",
       "    <tr>\n",
       "      <th>0</th>\n",
       "      <td>1</td>\n",
       "      <td>130</td>\n",
       "      <td>120</td>\n",
       "    </tr>\n",
       "    <tr>\n",
       "      <th>1</th>\n",
       "      <td>2</td>\n",
       "      <td>142</td>\n",
       "      <td>135</td>\n",
       "    </tr>\n",
       "    <tr>\n",
       "      <th>2</th>\n",
       "      <td>3</td>\n",
       "      <td>120</td>\n",
       "      <td>118</td>\n",
       "    </tr>\n",
       "    <tr>\n",
       "      <th>3</th>\n",
       "      <td>4</td>\n",
       "      <td>135</td>\n",
       "      <td>127</td>\n",
       "    </tr>\n",
       "    <tr>\n",
       "      <th>4</th>\n",
       "      <td>5</td>\n",
       "      <td>148</td>\n",
       "      <td>140</td>\n",
       "    </tr>\n",
       "  </tbody>\n",
       "</table>\n",
       "</div>"
      ],
      "text/plain": [
       "   Patient ID  Blood Pressure After (mmHg)  Blood Pressure Before (mmHg)\n",
       "0           1                          130                           120\n",
       "1           2                          142                           135\n",
       "2           3                          120                           118\n",
       "3           4                          135                           127\n",
       "4           5                          148                           140"
      ]
     },
     "execution_count": 8,
     "metadata": {},
     "output_type": "execute_result"
    }
   ],
   "source": [
    "#Load the Dataset\n",
    "data= pd.read_csv(\"data.csv\")\n",
    "data.head()"
   ]
  },
  {
   "cell_type": "code",
   "execution_count": 9,
   "id": "9726dec8",
   "metadata": {},
   "outputs": [],
   "source": [
    "# Extract the 'Blood Pressure Before' and 'Blood Pressure After' columns\n",
    "bp_before = data['Blood Pressure After (mmHg)'] \n",
    "bp_after = data['Blood Pressure Before (mmHg)']\n"
   ]
  },
  {
   "cell_type": "code",
   "execution_count": 10,
   "id": "cda85003",
   "metadata": {},
   "outputs": [
    {
     "data": {
      "text/plain": [
       "0    130\n",
       "1    142\n",
       "2    120\n",
       "3    135\n",
       "4    148\n",
       "Name: Blood Pressure After (mmHg), dtype: int64"
      ]
     },
     "execution_count": 10,
     "metadata": {},
     "output_type": "execute_result"
    }
   ],
   "source": [
    "bp_before.head()"
   ]
  },
  {
   "cell_type": "markdown",
   "id": "210edd3c",
   "metadata": {},
   "source": [
    "### a. Measure the dispersion in both and interpret the results."
   ]
  },
  {
   "cell_type": "code",
   "execution_count": 20,
   "id": "4c1c4460",
   "metadata": {},
   "outputs": [],
   "source": [
    "# Measure the dispersion using range, variance, and standard deviation\n",
    "#Calculating the Range\n",
    "bp_before_range = np.max(bp_before)- np.min(bp_before)\n",
    "bp_after_range = np.max(bp_after)- np.min(bp_after)\n"
   ]
  },
  {
   "cell_type": "code",
   "execution_count": 21,
   "id": "7ce6df28",
   "metadata": {},
   "outputs": [],
   "source": [
    "#Measuring the variance\n",
    "bp_before_variance = np.var(bp_before)\n",
    "bp_after_variance = np.var(bp_after)\n",
    "\n",
    "\n"
   ]
  },
  {
   "cell_type": "code",
   "execution_count": 22,
   "id": "b0a1f1c5",
   "metadata": {},
   "outputs": [],
   "source": [
    "# standard deviation\n",
    "bp_before_std = np.std(bp_before)\n",
    "bp_after_std = np.std(bp_after)\n",
    "\n",
    "\n"
   ]
  },
  {
   "cell_type": "code",
   "execution_count": 23,
   "id": "9e545f4d",
   "metadata": {},
   "outputs": [
    {
     "name": "stdout",
     "output_type": "stream",
     "text": [
      "Dispersion of Blood Pressure Before :\n",
      "Range of BP_Before : 28\n",
      "variance of BP_Before : 43.10189999999998\n",
      "Standard Deviation of BP_Before : 6.5652037287505385\n"
     ]
    }
   ],
   "source": [
    "print(\"Dispersion of Blood Pressure Before :\")\n",
    "print(f'Range of BP_Before : {bp_before_range}')\n",
    "print(f'variance of BP_Before : {bp_before_variance}')\n",
    "print(f'Standard Deviation of BP_Before : {bp_before_std}')"
   ]
  },
  {
   "cell_type": "code",
   "execution_count": 24,
   "id": "73df36d2",
   "metadata": {},
   "outputs": [
    {
     "name": "stdout",
     "output_type": "stream",
     "text": [
      "Dispersion of Blood Pressure After :\n",
      "Range of BP_After : 23\n",
      "variance of BP_After : 46.97040000000002\n",
      "Standard Deviation of BP_After : 6.853495458523338\n"
     ]
    }
   ],
   "source": [
    "print(\"Dispersion of Blood Pressure After :\")\n",
    "\n",
    "print(f'Range of BP_After : {bp_after_range}')\n",
    "print(f'variance of BP_After : {bp_after_variance}')\n",
    "print(f'Standard Deviation of BP_After : {bp_after_std}')\n"
   ]
  },
  {
   "cell_type": "markdown",
   "id": "7e6d0e82",
   "metadata": {},
   "source": [
    "### b. Calculate mean and 5% confidence interval and plot it in a graph \n",
    "\n"
   ]
  },
  {
   "cell_type": "code",
   "execution_count": 25,
   "id": "5067d229",
   "metadata": {},
   "outputs": [],
   "source": [
    "#Calculating mean \n",
    "bp_before_mean = np.mean(bp_before)\n",
    "bp_after_mean = np.mean(bp_after)"
   ]
  },
  {
   "cell_type": "code",
   "execution_count": 28,
   "id": "4caa2829",
   "metadata": {},
   "outputs": [],
   "source": [
    "import scipy.stats as stats\n",
    "bp_before_CI = stats.t.interval(0.95, len(bp_before)-1, loc=bp_before_mean, scale=stats.sem(bp_before))\n",
    "bp_after_CI = stats.t.interval(0.95, len(bp_after)-1, loc=bp_after_mean, scale=stats.sem(bp_after))\n"
   ]
  },
  {
   "cell_type": "code",
   "execution_count": 29,
   "id": "10ab18c8",
   "metadata": {},
   "outputs": [
    {
     "name": "stdout",
     "output_type": "stream",
     "text": [
      "Mean and 5% Confidence Interval of 'Blood Pressure Before':\n",
      "Mean: 133.91\n",
      "Confidence Interval: (132.60075849172767, 135.21924150827232)\n"
     ]
    }
   ],
   "source": [
    "print(\"Mean and 5% Confidence Interval of 'Blood Pressure Before':\")\n",
    "print(\"Mean:\", bp_before_mean)\n",
    "print(\"Confidence Interval:\", bp_before_CI)\n",
    "\n"
   ]
  },
  {
   "cell_type": "code",
   "execution_count": 30,
   "id": "adb66b51",
   "metadata": {},
   "outputs": [
    {
     "name": "stdout",
     "output_type": "stream",
     "text": [
      "Mean and 5% Confidence Interval of 'Blood Pressure After':\n",
      "Mean: 128.36\n",
      "Confidence Interval: (126.99326697818071, 129.7267330218193)\n",
      "\n"
     ]
    }
   ],
   "source": [
    "print(\"Mean and 5% Confidence Interval of 'Blood Pressure After':\")\n",
    "print(\"Mean:\", bp_after_mean)\n",
    "print(\"Confidence Interval:\", bp_after_CI)\n",
    "print()"
   ]
  },
  {
   "cell_type": "code",
   "execution_count": 32,
   "id": "1ba5ee62",
   "metadata": {},
   "outputs": [
    {
     "data": {
      "image/png": "[encoded data removed]",
      "text/plain": [
       "<Figure size 640x480 with 1 Axes>"
      ]
     },
     "metadata": {},
     "output_type": "display_data"
    }
   ],
   "source": [
    "# Plot the means and confidence intervals\n",
    "import matplotlib.pyplot as plt\n",
    "x = ['Before', 'After']\n",
    "y = [bp_before_mean, bp_after_mean]\n",
    "yerr = [bp_before_CI[1] - bp_before_mean, bp_after_CI[1] - bp_after_mean]\n",
    "plt.bar()\n",
    "plt.bar(x, y, yerr=yerr, capsize=10)\n",
    "plt.ylabel('Mean')\n",
    "plt.title('Mean and 5% Confidence Interval of Blood Pressure Before and After')\n",
    "plt.show()\n"
   ]
  },
  {
   "cell_type": "markdown",
   "id": "ddff6a2a",
   "metadata": {},
   "source": [
    "### c. Calculate the Mean absolute deviation and Standard deviation and interpret the results.\n",
    "\n"
   ]
  },
  {
   "cell_type": "code",
   "execution_count": 34,
   "id": "92db4ea0",
   "metadata": {},
   "outputs": [],
   "source": [
    "# Calculate Mean Absolute Deviation (MAD)\n",
    "bp_before_mad = np.mean(np.abs(bp_before - bp_before_mean))\n",
    "bp_after_mad = np.mean(np.abs(bp_after - bp_after_mean))"
   ]
  },
  {
   "cell_type": "code",
   "execution_count": 35,
   "id": "91b3e1d3",
   "metadata": {},
   "outputs": [],
   "source": [
    "# Calculate Standard Deviation (SD)\n",
    "bp_before_sd = np.std(bp_before)\n",
    "bp_after_sd = np.std(bp_after)"
   ]
  },
  {
   "cell_type": "code",
   "execution_count": 36,
   "id": "1ef1d016",
   "metadata": {},
   "outputs": [
    {
     "name": "stdout",
     "output_type": "stream",
     "text": [
      "Mean Absolute Deviation (MAD) of 'Blood Pressure Before': 5.7118\n",
      "Standard Deviation (SD) of 'Blood Pressure Before': 6.5652037287505385\n"
     ]
    }
   ],
   "source": [
    "\n",
    "print(\"Mean Absolute Deviation (MAD) of 'Blood Pressure Before':\", bp_before_mad)\n",
    "print(\"Standard Deviation (SD) of 'Blood Pressure Before':\", bp_before_sd)\n",
    "\n"
   ]
  },
  {
   "cell_type": "code",
   "execution_count": 37,
   "id": "edf7375c",
   "metadata": {},
   "outputs": [
    {
     "name": "stdout",
     "output_type": "stream",
     "text": [
      "Mean Absolute Deviation (MAD) of 'Blood Pressure After': 5.9\n",
      "Standard Deviation (SD) of 'Blood Pressure After': 6.853495458523338\n"
     ]
    }
   ],
   "source": [
    "print(\"Mean Absolute Deviation (MAD) of 'Blood Pressure After':\", bp_after_mad)\n",
    "print(\"Standard Deviation (SD) of 'Blood Pressure After':\", bp_after_sd)\n"
   ]
  },
  {
   "cell_type": "markdown",
   "id": "083f687b",
   "metadata": {},
   "source": [
    "### d. Calculate the correlation coefficient and check the significance of it at 1% level of significance. "
   ]
  },
  {
   "cell_type": "code",
   "execution_count": 42,
   "id": "24561494",
   "metadata": {},
   "outputs": [
    {
     "name": "stdout",
     "output_type": "stream",
     "text": [
      "0.9779485966556017  : 1.8097381433072956e-68\n"
     ]
    }
   ],
   "source": [
    "from scipy.stats import pearsonr\n",
    "\n",
    "# Calculate the correlation coefficient and p-value\n",
    "correlation, p_value = pearsonr(bp_before, bp_after)\n",
    "print(correlation,' :', p_value)"
   ]
  },
  {
   "cell_type": "code",
   "execution_count": 40,
   "id": "4748c8ae",
   "metadata": {},
   "outputs": [],
   "source": [
    "# Check the significance at the 1% level of significance\n",
    "significance_level = 0.01\n",
    "if p_value < significance_level:\n",
    "    significance = 'significant'\n",
    "else:\n",
    "    significance = 'not significant'\n"
   ]
  },
  {
   "cell_type": "code",
   "execution_count": 43,
   "id": "2c9dbce0",
   "metadata": {},
   "outputs": [
    {
     "name": "stdout",
     "output_type": "stream",
     "text": [
      "Correlation Coefficient: 0.9779485966556017\n",
      "Significance at 1% level: significant\n"
     ]
    }
   ],
   "source": [
    "# Print the correlation coefficient and its significance\n",
    "print(\"Correlation Coefficient:\", correlation)\n",
    "print(\"Significance at 1% level:\", significance)"
   ]
  },
  {
   "cell_type": "code",
   "execution_count": null,
   "id": "6fe3f9b7",
   "metadata": {},
   "outputs": [],
   "source": []
  }
 ],
 "metadata": {
  "kernelspec": {
   "display_name": "Python 3 (ipykernel)",
   "language": "python",
   "name": "python3"
  },
  "language_info": {
   "codemirror_mode": {
    "name": "ipython",
    "version": 3
   },
   "file_extension": ".py",
   "mimetype": "text/x-python",
   "name": "python",
   "nbconvert_exporter": "python",
   "pygments_lexer": "ipython3",
   "version": "3.9.13"
  }
 },
 "nbformat": 4,
 "nbformat_minor": 5
}
