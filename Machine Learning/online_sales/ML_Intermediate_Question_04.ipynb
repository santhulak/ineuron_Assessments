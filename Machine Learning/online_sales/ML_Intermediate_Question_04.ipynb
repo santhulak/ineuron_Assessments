{
 "cells": [
  {
   "cell_type": "code",
   "execution_count": null,
   "id": "9a3274b7",
   "metadata": {},
   "outputs": [],
   "source": [
    "import pandas as pd\n",
    "from sklearn.ensemble import RandomForestClassifier, RandomForestRegressor\n",
    "from sklearn.model_selection import train_test_split\n",
    "from sklearn.metrics import accuracy_score, mean_squared_error\n",
    "from sklearn.preprocessing import OneHotEncoder"
   ]
  },
  {
   "cell_type": "code",
   "execution_count": 3,
   "id": "d3627e7d",
   "metadata": {},
   "outputs": [],
   "source": [
    "# Load the dataset\n",
    "data = pd.read_csv('online_shoppers_intention.csv')"
   ]
  },
  {
   "cell_type": "code",
   "execution_count": 4,
   "id": "07171a0f",
   "metadata": {},
   "outputs": [],
   "source": [
    "# Prepare the data\n",
    "X = data.drop(['Revenue', 'Weekend', 'Informational_Duration'], axis=1)\n",
    "y_revenue = data['Revenue']\n",
    "y_weekend = data['Weekend']\n",
    "y_informational_duration = data['Informational_Duration']"
   ]
  },
  {
   "cell_type": "code",
   "execution_count": 5,
   "id": "f99ab91e",
   "metadata": {},
   "outputs": [],
   "source": [
    "\n",
    "# Encode categorical variables using one-hot encoding\n",
    "categorical_features = ['Month', 'VisitorType']\n",
    "X_encoded = pd.get_dummies(X, columns=categorical_features)"
   ]
  },
  {
   "cell_type": "code",
   "execution_count": 6,
   "id": "f7f3bee0",
   "metadata": {},
   "outputs": [],
   "source": [
    "# Split the data into training and testing sets\n",
    "X_train, X_test, y_revenue_train, y_revenue_test, y_weekend_train, y_weekend_test, y_informational_duration_train, y_informational_duration_test = train_test_split(X_encoded, y_revenue, y_weekend, y_informational_duration, test_size=0.2, random_state=42)\n"
   ]
  },
  {
   "cell_type": "code",
   "execution_count": 14,
   "id": "8e72a5ae",
   "metadata": {},
   "outputs": [
    {
     "name": "stdout",
     "output_type": "stream",
     "text": [
      "[False False  True ... False False False]\n"
     ]
    }
   ],
   "source": [
    "# Train the Random Forest classifier for revenue prediction\n",
    "revenue_classifier = RandomForestClassifier(n_estimators=100)\n",
    "revenue_classifier.fit(X_train, y_revenue_train)\n",
    "\n",
    "# Make predictions on the test set for revenue\n",
    "y_revenue_pred = revenue_classifier.predict(X_test)\n",
    "print(y_revenue_pred)\n",
    "\n",
    "\n"
   ]
  },
  {
   "cell_type": "code",
   "execution_count": 13,
   "id": "8c71c708",
   "metadata": {},
   "outputs": [
    {
     "name": "stdout",
     "output_type": "stream",
     "text": [
      "[False False False ... False False False]\n"
     ]
    }
   ],
   "source": [
    "# Train the Random Forest classifier for weekend prediction\n",
    "weekend_classifier = RandomForestClassifier(n_estimators=100)\n",
    "weekend_classifier.fit(X_train, y_weekend_train)\n",
    "\n",
    "# Make predictions on the test set for weekend\n",
    "y_weekend_pred = weekend_classifier.predict(X_test)\n",
    "print(y_weekend_pred)"
   ]
  },
  {
   "cell_type": "code",
   "execution_count": 12,
   "id": "9bf413d6",
   "metadata": {},
   "outputs": [
    {
     "name": "stdout",
     "output_type": "stream",
     "text": [
      "[  0.         248.96926667   0.         ...  84.18396429 407.28262501\n",
      "   0.        ]\n"
     ]
    }
   ],
   "source": [
    "\n",
    "# Train the Random Forest regressor for informational duration prediction\n",
    "informational_duration_regressor = RandomForestRegressor(n_estimators=100)\n",
    "informational_duration_regressor.fit(X_train, y_informational_duration_train)\n",
    "\n",
    "# Make predictions on the test set for informational duration\n",
    "y_informational_duration_pred = informational_duration_regressor.predict(X_test)\n",
    "print(y_informational_duration_pred)"
   ]
  },
  {
   "cell_type": "code",
   "execution_count": 10,
   "id": "01b24ad0",
   "metadata": {},
   "outputs": [],
   "source": [
    "# Evaluate the models\n",
    "revenue_accuracy = accuracy_score(y_revenue_test, y_revenue_pred)\n",
    "weekend_accuracy = accuracy_score(y_weekend_test, y_weekend_pred)\n",
    "informational_duration_rmse = mean_squared_error(y_informational_duration_test, y_informational_duration_pred, squared=False)\n"
   ]
  },
  {
   "cell_type": "code",
   "execution_count": 11,
   "id": "3263f872",
   "metadata": {},
   "outputs": [
    {
     "name": "stdout",
     "output_type": "stream",
     "text": [
      "Revenue Accuracy: 0.8925385239253852\n",
      "Weekend Accuracy: 0.7631792376317924\n",
      "Informational Duration RMSE: 118.30237849592244\n"
     ]
    }
   ],
   "source": [
    "# Print the evaluation results\n",
    "print(\"Revenue Accuracy:\", revenue_accuracy)\n",
    "print(\"Weekend Accuracy:\", weekend_accuracy)\n",
    "print(\"Informational Duration RMSE:\", informational_duration_rmse)\n"
   ]
  },
  {
   "cell_type": "code",
   "execution_count": null,
   "id": "be293af3",
   "metadata": {},
   "outputs": [],
   "source": []
  }
 ],
 "metadata": {
  "kernelspec": {
   "display_name": "Python 3 (ipykernel)",
   "language": "python",
   "name": "python3"
  },
  "language_info": {
   "codemirror_mode": {
    "name": "ipython",
    "version": 3
   },
   "file_extension": ".py",
   "mimetype": "text/x-python",
   "name": "python",
   "nbconvert_exporter": "python",
   "pygments_lexer": "ipython3",
   "version": "3.9.13"
  }
 },
 "nbformat": 4,
 "nbformat_minor": 5
}
