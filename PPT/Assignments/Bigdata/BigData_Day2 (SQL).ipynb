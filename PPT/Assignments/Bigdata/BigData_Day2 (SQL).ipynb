{
 "cells": [
  {
   "cell_type": "markdown",
   "id": "21bff08e",
   "metadata": {},
   "source": [
    "1. Write an SQL query to retrieve the names and email addresses of all employees from a table named \"Employees\".\n"
   ]
  },
  {
   "cell_type": "markdown",
   "id": "cf77062e",
   "metadata": {},
   "source": [
    "SELECT names, email FROM Employees;\n"
   ]
  },
  {
   "cell_type": "markdown",
   "id": "888a78e0",
   "metadata": {},
   "source": [
    "2. Write an SQL query to filter records from a table named \"Customers\" where the \"City\" column is 'New York'.\n",
    "\n"
   ]
  },
  {
   "cell_type": "markdown",
   "id": "d52610bd",
   "metadata": {},
   "source": [
    "SELECT * FROM Customers WHERE City = 'New York';\n"
   ]
  },
  {
   "cell_type": "markdown",
   "id": "d4387aee",
   "metadata": {},
   "source": [
    "3. Write an SQL query to sort records in descending order based on the \"DateOfBirth\" column in a table named \"Users\".\n"
   ]
  },
  {
   "cell_type": "markdown",
   "id": "c914b155",
   "metadata": {},
   "source": [
    "SELECT * FROM Users ORDER BY DateOfBirth DESC;\n"
   ]
  },
  {
   "cell_type": "markdown",
   "id": "79314e23",
   "metadata": {},
   "source": [
    "4. Write an SQL query to sort records in ascending order based on the \"RegistrationDate\" column in a table named \"Users\".\n",
    "\n"
   ]
  },
  {
   "cell_type": "markdown",
   "id": "99f30f2f",
   "metadata": {},
   "source": [
    "SELECT * FROM Users ORDER BY RegistrationDate ASC;\n"
   ]
  },
  {
   "cell_type": "markdown",
   "id": "3ba17dc5",
   "metadata": {},
   "source": [
    "5. Write an SQL query to find the employee with the highest salary from a table named \"Employees\" and display their name, position, and salary.\n"
   ]
  },
  {
   "cell_type": "markdown",
   "id": "0f876764",
   "metadata": {},
   "source": [
    "SELECT name, position, salary\n",
    "FROM Employees\n",
    "WHERE salary = (SELECT MAX(salary) FROM Employees);\n"
   ]
  },
  {
   "cell_type": "markdown",
   "id": "b43a55bc",
   "metadata": {},
   "source": [
    "6. Write an SQL query to retrieve records from a table named \"Customers\" where the \"Phone\" column matches the pattern '+1-XXX-XXX-XXXX'.\n"
   ]
  },
  {
   "cell_type": "markdown",
   "id": "86e53485",
   "metadata": {},
   "source": [
    "SELECT *\n",
    "FROM Customers\n",
    "WHERE Phone LIKE '+1-___-___-____';\n"
   ]
  },
  {
   "cell_type": "markdown",
   "id": "5bea9823",
   "metadata": {},
   "source": [
    "7. Write an SQL query to retrieve the top 5 customers with the highest total purchase amount from a table named \"Orders\" and display their names and total purchase amounts.\n"
   ]
  },
  {
   "cell_type": "markdown",
   "id": "2680de46",
   "metadata": {},
   "source": [
    "SELECT CustomerName, SUM(TotalAmount) AS TotalPurchaseAmount\n",
    "FROM Orders\n",
    "GROUP BY CustomerName\n",
    "ORDER BY TotalPurchaseAmount DESC\n",
    "LIMIT 5;\n"
   ]
  },
  {
   "cell_type": "markdown",
   "id": "70109146",
   "metadata": {},
   "source": [
    "8. Write an SQL query to calculate the percentage of sales for each product category in a table named \"Sales\" and display the category name, total sales amount, and the percentage of total sales.\n"
   ]
  },
  {
   "cell_type": "markdown",
   "id": "83529510",
   "metadata": {},
   "source": [
    "SELECT CategoryName, SUM(SalesAmount) AS TotalSalesAmount,\n",
    "    (SUM(SalesAmount) / (SELECT SUM(SalesAmount) FROM Sales)) * 100 AS PercentageOfTotalSales\n",
    "FROM Sales\n",
    "GROUP BY CategoryName;\n"
   ]
  },
  {
   "cell_type": "markdown",
   "id": "2d81f9f9",
   "metadata": {},
   "source": [
    "9. Write an SQL query to find the customers who have made the highest total purchases across all years from a table named \"Orders\" and display their names, email addresses, and the total purchase amount."
   ]
  },
  {
   "cell_type": "markdown",
   "id": "52ef9e49",
   "metadata": {},
   "source": [
    "SELECT Customers.Name, Customers.Email, SUM(Orders.TotalPurchaseAmount) AS TotalPurchaseAmount\n",
    "FROM Orders\n",
    "JOIN Customers ON Orders.CustomerId = Customers.Id\n",
    "GROUP BY Customers.Name, Customers.Email\n",
    "HAVING SUM(Orders.TotalPurchaseAmount) = (\n",
    "    SELECT MAX(TotalPurchaseAmount)\n",
    "    FROM (\n",
    "        SELECT SUM(TotalPurchaseAmount) AS TotalPurchaseAmount\n",
    "        FROM Orders\n",
    "        GROUP BY CustomerId\n",
    "    ) AS SubQuery\n",
    ")\n"
   ]
  },
  {
   "cell_type": "code",
   "execution_count": null,
   "id": "9a952a28",
   "metadata": {},
   "outputs": [],
   "source": []
  }
 ],
 "metadata": {
  "kernelspec": {
   "display_name": "Python 3 (ipykernel)",
   "language": "python",
   "name": "python3"
  },
  "language_info": {
   "codemirror_mode": {
    "name": "ipython",
    "version": 3
   },
   "file_extension": ".py",
   "mimetype": "text/x-python",
   "name": "python",
   "nbconvert_exporter": "python",
   "pygments_lexer": "ipython3",
   "version": "3.9.13"
  }
 },
 "nbformat": 4,
 "nbformat_minor": 5
}
