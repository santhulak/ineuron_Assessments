{
 "cells": [
  {
   "cell_type": "markdown",
   "id": "3e9d9c36",
   "metadata": {},
   "source": [
    "1. Scenario: A company wants to analyze the sales performance of its products in different regions. They have collected the following data:\n",
    "   Region A: [10, 15, 12, 8, 14]\n",
    "   Region B: [18, 20, 16, 22, 25]\n",
    "   Calculate the mean sales for each region.\n",
    "\n"
   ]
  },
  {
   "cell_type": "markdown",
   "id": "8ea5f2b5",
   "metadata": {},
   "source": [
    "Region A: [10, 15, 12, 8, 14]\n",
    "Mean sales for Region A = (10 + 15 + 12 + 8 + 14) / 5 = 11.8\n",
    "\n",
    "Region B: [18, 20, 16, 22, 25]\n",
    "Mean sales for Region B = (18 + 20 + 16 + 22 + 25) / 5 = 20.2\n",
    "\n",
    "Therefore, the mean sales for Region A is 11.8 and for Region B is 20.2."
   ]
  },
  {
   "cell_type": "markdown",
   "id": "abe28e5d",
   "metadata": {},
   "source": [
    "2. Scenario: A survey is conducted to measure customer satisfaction on a scale of 1 to 5. The data collected is as follows:\n",
    "   [4, 5, 2, 3, 5, 4, 3, 2, 4, 5]\n",
    "   Calculate the mode of the survey responses.\n",
    "\n"
   ]
  },
  {
   "cell_type": "markdown",
   "id": "a61d633e",
   "metadata": {},
   "source": [
    "Survey responses: [4, 5, 2, 3, 5, 4, 3, 2, 4, 5]\n",
    "\n",
    "Mode of the survey responses: 4 and 5\n",
    "\n",
    "Both 4 and 5 appear twice in the data, which is more frequent than any other value. Therefore, the mode of the survey responses is 4 and 5."
   ]
  },
  {
   "cell_type": "markdown",
   "id": "39150abf",
   "metadata": {},
   "source": [
    "3. Scenario: A company wants to compare the salaries of two departments. The salary data for Department A and Department B are as follows:\n",
    "   Department A: [5000, 6000, 5500, 7000]\n",
    "   Department B: [4500, 5500, 5800, 6000, 5200]\n",
    "   Calculate the median salary for each department.\n",
    "\n"
   ]
  },
  {
   "cell_type": "markdown",
   "id": "36347fbf",
   "metadata": {},
   "source": [
    "Department A: [5000, 5500, 6000, 7000]\n",
    "Median salary for Department A: 5500 + 6000 = 11500 / 2 = 5750\n",
    "\n",
    "In Department A, there are four salaries, so the median is the average of the two middle values, which are 5500 and 6000. Thus, the median salary for Department A is 5750.\n",
    "\n",
    "Department B: [4500, 5200, 5500, 5800, 6000]\n",
    "Median salary for Department B: 5500\n",
    "\n",
    "In Department B, there are five salaries, so the median is the middle value, which is 5500. Thus, the median salary for Department B is 5500."
   ]
  },
  {
   "cell_type": "markdown",
   "id": "ded587da",
   "metadata": {},
   "source": [
    "4. Scenario: A data analyst wants to determine the variability in the daily stock prices of a company. The data collected is as follows:\n",
    "   [25.5, 24.8, 26.1, 25.3, 24.9]\n",
    "   Calculate the range of the stock prices.\n",
    "\n"
   ]
  },
  {
   "cell_type": "markdown",
   "id": "320b2a24",
   "metadata": {},
   "source": [
    "Stock prices: [25.5, 24.8, 26.1, 25.3, 24.9]\n",
    "\n",
    "Minimum stock price: 24.8\n",
    "Maximum stock price: 26.1\n",
    "\n",
    "Range = Maximum stock price - Minimum stock price\n",
    "= 26.1 - 24.8\n",
    "= 1.3\n",
    "\n",
    "Therefore, the range of the stock prices is 1.3."
   ]
  },
  {
   "cell_type": "markdown",
   "id": "dc91f750",
   "metadata": {},
   "source": [
    "5. Scenario: A study is conducted to compare the performance of two different teaching methods. The test scores of the students in each group are as follows:\n",
    "   Group A: [85, 90, 92, 88, 91]\n",
    "   Group B: [82, 88, 90, 86, 87]\n",
    "   Perform a t-test to determine if there is a significant difference in the mean scores between the two groups.\n",
    "\n"
   ]
  },
  {
   "cell_type": "markdown",
   "id": "24fd5c60",
   "metadata": {},
   "source": [
    "Calculate the sample means (x̄) and sample standard deviations (s) for each group.\n",
    "Group A: x̄A = (85 + 90 + 92 + 88 + 91) / 5 = 89.2, sA = √[(85-89.2)² + (90-89.2)² + (92-89.2)² + (88-89.2)² + (91-89.2)²] / 4 ≈ 2.46\n",
    "Group B: x̄B = (82 + 88 + 90 + 86 + 87) / 5 = 86.6, sB = √[(82-86.6)² + (88-86.6)² + (90-86.6)² + (86-86.6)² + (87-86.6)²] / 4 ≈ 2.36\n",
    "\n",
    "Calculate the test statistic (t-value) using the formula:\n",
    "t = (x̄A - x̄B) / √((sA² / nA) + (sB² / nB))\n",
    "= (89.2 - 86.6) / √((2.46² / 5) + (2.36² / 5))\n",
    "= 2.6 / √(0.5992 + 0.5568)\n",
    "≈ 2.6 / √1.156\n",
    "≈ 2.6 / 1.075\n",
    "≈ 2.42\n",
    "\n",
    "Determine the degrees of freedom (df) using the formula:\n",
    "df = nA + nB - 2\n",
    "= 5 + 5 - 2\n",
    "= 8\n",
    "\n",
    "Look up the critical t-value from the t-distribution table or use a t-distribution calculator with (df, α) values. For α = 0.05 and df = 8, the critical t-value is approximately 2.306."
   ]
  },
  {
   "cell_type": "markdown",
   "id": "1cace8e2",
   "metadata": {},
   "source": [
    "6. Scenario: A company wants to analyze the relationship between advertising expenditure and sales. The data collected is as follows:\n",
    "   Advertising Expenditure (in thousands): [10, 15, 12, 8, 14]\n",
    "   Sales (in thousands): [25, 30, 28, 20, 26]\n",
    "   Calculate the correlation coefficient between advertising expenditure and sales.\n",
    "\n"
   ]
  },
  {
   "cell_type": "markdown",
   "id": "0c2fec5e",
   "metadata": {},
   "source": [
    "Step 1: Calculate the mean of the advertising expenditure (x) and sales (y):\n",
    "x̄ = (10 + 15 + 12 + 8 + 14) / 5 = 11.8\n",
    "ȳ = (25 + 30 + 28 + 20 + 26) / 5 = 25.8\n",
    "\n",
    "Step 2: Calculate the difference from the mean for both variables:\n",
    "For advertising expenditure (x), calculate (xi - x̄):\n",
    "(10 - 11.8) = -1.8\n",
    "(15 - 11.8) = 3.2\n",
    "(12 - 11.8) = 0.2\n",
    "(8 - 11.8) = -3.8\n",
    "(14 - 11.8) = 2.2\n",
    "\n",
    "For sales (y), calculate (yi - ȳ):\n",
    "(25 - 25.8) = -0.8\n",
    "(30 - 25.8) = 4.2\n",
    "(28 - 25.8) = 2.2\n",
    "(20 - 25.8) = -5.8\n",
    "(26 - 25.8) = 0.2\n",
    "\n",
    "Step 3: Calculate the product of the differences from the mean for both variables:\n",
    "(xi - x̄)(yi - ȳ):\n",
    "(-1.8 * -0.8) = 1.44\n",
    "(3.2 * 4.2) = 13.44\n",
    "(0.2 * 2.2) = 0.44\n",
    "(-3.8 * -5.8) = 22.04\n",
    "(2.2 * 0.2) = 0.44\n",
    "\n",
    "Step 4: Calculate the sum of the products:\n",
    "Σ((xi - x̄)(yi - ȳ)) = 1.44 + 13.44 + 0.44 + 22.04 + 0.44 = 37.8\n",
    "\n",
    "Step 5: Calculate the square root of the sum of the squared differences for each variable:\n",
    "√(Σ(xi - x̄)²) = √((-1.8)² + 3.2² + 0.2² + (-3.8)² + 2.2²) = √(3.24 + 10.24 + 0.04 + 14.44 + 4.84) = √32.8 ≈ 5.72\n",
    "√(Σ(yi - ȳ)²) = √((-0.8)² + 4.2² + 2.2² + (-5.8)² + 0.2²) = √(0.64 + 17.64 + 4.84 + 33.64 + 0.04) = √57.8 ≈ 7.61\n",
    "\n",
    "Step 6: Calculate the correlation coefficient (r):\n",
    "r = Σ((xi - x̄)(yi - ȳ)) / (√(Σ(xi - x̄)²) * √(Σ(yi - ȳ)²))\n",
    "= 37.8 / (5.72 * 7.61)\n",
    "≈ 0.878\n",
    "\n",
    "The correlation coefficient between advertising expenditure and sales is approximately 0.878. This value indicates a strong positive correlation between the two variables, suggesting that as advertising expenditure increases, sales also tend to increase."
   ]
  },
  {
   "cell_type": "markdown",
   "id": "687a810b",
   "metadata": {},
   "source": [
    "7. Scenario: A survey is conducted to measure the heights of a group of people. The data collected is as follows:\n",
    "   [160, 170, 165, 155, 175, 180, 170]\n",
    "   Calculate the standard deviation of the heights.\n",
    "\n"
   ]
  },
  {
   "cell_type": "markdown",
   "id": "02612b67",
   "metadata": {},
   "source": [
    "To calculate the standard deviation of the heights, you can follow these steps:\n",
    "\n",
    "Calculate the mean (average) of the heights:\n",
    "Mean = (160 + 170 + 165 + 155 + 175 + 180 + 170) / 7 = 166.43\n",
    "\n",
    "Calculate the deviation of each height from the mean:\n",
    "Deviations = [(160 - 166.43), (170 - 166.43), (165 - 166.43), (155 - 166.43), (175 - 166.43), (180 - 166.43), (170 - 166.43)]\n",
    "= [-6.43, 3.57, -1.43, -11.43, 8.57, 13.57, 3.57]\n",
    "\n",
    "Square each deviation:\n",
    "Squared Deviations = [(-6.43)^2, (3.57)^2, (-1.43)^2, (-11.43)^2, (8.57)^2, (13.57)^2, (3.57)^2]\n",
    "= [41.3449, 12.7449, 2.0449, 130.4649, 73.3249, 183.7449, 12.7449]\n",
    "\n",
    "Calculate the mean of the squared deviations (variance):\n",
    "Variance = (41.3449 + 12.7449 + 2.0449 + 130.4649 + 73.3249 + 183.7449 + 12.7449) / 7 = 53.7557\n",
    "\n",
    "Calculate the square root of the variance to obtain the standard deviation:\n",
    "Standard Deviation = sqrt(Variance) = sqrt(53.7557) ≈ 7.33\n",
    "\n",
    "Therefore, the standard deviation of the heights is approximately 7.33."
   ]
  },
  {
   "cell_type": "markdown",
   "id": "d78198b8",
   "metadata": {},
   "source": [
    "8. Scenario: A company wants to analyze the relationship between employee tenure and job satisfaction. The data collected is as follows:\n",
    "   Employee Tenure (in years): [2, 3, 5, 4, 6, 2, 4]\n",
    "   Job Satisfaction (on a scale of 1 to 10): [7, 8, 6, 9, 5, 7, 6]\n",
    "   Perform a linear regression analysis to predict job satisfaction based on employee tenure.\n",
    "\n"
   ]
  },
  {
   "cell_type": "code",
   "execution_count": 1,
   "id": "4e3e72a9",
   "metadata": {},
   "outputs": [
    {
     "name": "stdout",
     "output_type": "stream",
     "text": [
      "Predicted job satisfaction: [6.95744681]\n"
     ]
    },
    {
     "data": {
      "image/png": "[encoded data removed]",
      "text/plain": [
       "<Figure size 640x480 with 1 Axes>"
      ]
     },
     "metadata": {},
     "output_type": "display_data"
    }
   ],
   "source": [
    "import numpy as np\n",
    "from sklearn.linear_model import LinearRegression\n",
    "import matplotlib.pyplot as plt\n",
    "# Employee tenure\n",
    "X = np.array([[2], [3], [5], [4], [6], [2], [4]])  \n",
    "# Job satisfaction\n",
    "y = np.array([7, 8, 6, 9, 5, 7, 6])  \n",
    "model = LinearRegression()\n",
    "model.fit(X, y)\n",
    "# New employee tenure\n",
    "new_tenure = np.array([[3.5]])  \n",
    "predicted_satisfaction = model.predict(new_tenure)\n",
    "print(\"Predicted job satisfaction:\", predicted_satisfaction)\n",
    "\n",
    "\n",
    "plt.scatter(X, y)\n",
    "plt.plot(X, model.predict(X), color='red')\n",
    "plt.xlabel('Employee Tenure (years)')\n",
    "plt.ylabel('Job Satisfaction')\n",
    "plt.title('Linear Regression - Employee Tenure vs. Job Satisfaction')\n",
    "plt.show()\n"
   ]
  },
  {
   "cell_type": "markdown",
   "id": "e97c78b3",
   "metadata": {},
   "source": [
    "9. Scenario: A study is conducted to compare the effectiveness of two different medications. The recovery times of the patients in each group are as follows:\n",
    "   Medication A: [10, 12, 14, 11, 13]\n",
    "   Medication B: [15, 17, 16, 14, 18]\n",
    "   Perform an analysis of variance (ANOVA) to determine if there is a significant difference in the mean recovery times between the two medications.\n",
    "\n"
   ]
  },
  {
   "cell_type": "code",
   "execution_count": 2,
   "id": "87f88e28",
   "metadata": {},
   "outputs": [
    {
     "name": "stdout",
     "output_type": "stream",
     "text": [
      "There is a significant difference in the mean recovery times between the two medications.\n"
     ]
    }
   ],
   "source": [
    "import scipy.stats as stats\n",
    "medication_A = [10, 12, 14, 11, 13]\n",
    "medication_B = [15, 17, 16, 14, 18]\n",
    "f_value, p_value = stats.f_oneway(medication_A, medication_B)\n",
    "alpha = 0.05  # significance level\n",
    "if p_value < alpha:\n",
    "    print(\"There is a significant difference in the mean recovery times between the two medications.\")\n",
    "else:\n",
    "    print(\"There is no significant difference in the mean recovery times between the two medications.\")\n"
   ]
  },
  {
   "cell_type": "markdown",
   "id": "a46a39f7",
   "metadata": {},
   "source": [
    "10. Scenario: A company wants to analyze customer feedback ratings on a scale of 1 to 10. The data collected is\n",
    "\n",
    " as follows:\n",
    "    [8, 9, 7, 6, 8, 10, 9, 8, 7, 8]\n",
    "    Calculate the 75th percentile of the feedback ratings.\n",
    "\n"
   ]
  },
  {
   "cell_type": "code",
   "execution_count": 3,
   "id": "3fd020e6",
   "metadata": {},
   "outputs": [
    {
     "name": "stdout",
     "output_type": "stream",
     "text": [
      "The 75th percentile of the feedback ratings is: 9\n"
     ]
    }
   ],
   "source": [
    "feedback_ratings = [8, 9, 7, 6, 8, 10, 9, 8, 7, 8]\n",
    "sorted_ratings = sorted(feedback_ratings)\n",
    "percentile_index = int(0.75 * len(sorted_ratings))\n",
    "percentile_value = sorted_ratings[percentile_index]\n",
    "print(\"The 75th percentile of the feedback ratings is:\", percentile_value)\n"
   ]
  },
  {
   "cell_type": "markdown",
   "id": "8fa16075",
   "metadata": {},
   "source": [
    "11. Scenario: A quality control department wants to test the weight consistency of a product. The weights of a sample of products are as follows:\n",
    "    [10.2, 9.8, 10.0, 10.5, 10.3, 10.1]\n",
    "    Perform a hypothesis test to determine if the mean weight differs significantly from 10 grams.\n",
    "\n"
   ]
  },
  {
   "cell_type": "code",
   "execution_count": 4,
   "id": "95f3223c",
   "metadata": {},
   "outputs": [],
   "source": [
    "import numpy as np\n",
    "from scipy.stats import t\n",
    "weights = [10.2, 9.8, 10.0, 10.5, 10.3, 10.1]\n",
    "sample_mean = np.mean(weights)\n",
    "sample_std = np.std(weights, ddof=1)  # ddof=1 for unbiased estimation\n",
    "\n",
    "n = len(weights)\n",
    "degrees_of_freedom = n - 1\n",
    "test_statistic = (sample_mean - 10) / (sample_std / np.sqrt(n))\n",
    "p_value = 2 * (1 - t.cdf(abs(test_statistic), df=degrees_of_freedom))\n"
   ]
  },
  {
   "cell_type": "markdown",
   "id": "7e267114",
   "metadata": {},
   "source": [
    "12. Scenario: A company wants to analyze the click-through rates of two different website designs. The number of clicks for each design is as follows:\n",
    "    Design A: [100, 120, 110, 90, 95]\n",
    "    Design B: [80, 85, 90, 95, 100]\n",
    "    Perform a chi-square test to determine if there is a significant difference in the click-through rates between the two designs.\n",
    "\n"
   ]
  },
  {
   "cell_type": "code",
   "execution_count": 5,
   "id": "2e0a1efe",
   "metadata": {},
   "outputs": [
    {
     "name": "stdout",
     "output_type": "stream",
     "text": [
      "Chi-square statistic: 6.110658166925435\n",
      "P-value: 0.19103526314060293\n",
      "There is no significant difference in the click-through rates between Design A and Design B.\n"
     ]
    }
   ],
   "source": [
    "import numpy as np\n",
    "from scipy.stats import chi2_contingency\n",
    "\n",
    "# Click-through rates for Design A and Design B\n",
    "clicks_design_a = [100, 120, 110, 90, 95]\n",
    "clicks_design_b = [80, 85, 90, 95, 100]\n",
    "\n",
    "# Create a contingency table\n",
    "observed = np.array([clicks_design_a, clicks_design_b])\n",
    "\n",
    "# Perform the chi-square test\n",
    "chi2, p_value, _, _ = chi2_contingency(observed)\n",
    "\n",
    "# Set the significance level\n",
    "alpha = 0.05\n",
    "\n",
    "# Print the test statistic and p-value\n",
    "print(\"Chi-square statistic:\", chi2)\n",
    "print(\"P-value:\", p_value)\n",
    "\n",
    "# Check if the p-value is less than the significance level\n",
    "if p_value < alpha:\n",
    "    print(\"There is a significant difference in the click-through rates between Design A and Design B.\")\n",
    "else:\n",
    "    print(\"There is no significant difference in the click-through rates between Design A and Design B.\")\n"
   ]
  },
  {
   "cell_type": "markdown",
   "id": "63963e76",
   "metadata": {},
   "source": [
    "13. Scenario: A survey is conducted to measure customer satisfaction with a product on a scale of 1 to 10. The data collected is as follows:\n",
    "    [7, 9, 6, 8, 10, 7, 8, 9, 7, 8]\n",
    "    Calculate the 95% confidence interval for the population mean satisfaction score.\n",
    "\n"
   ]
  },
  {
   "cell_type": "code",
   "execution_count": 6,
   "id": "80c3ad4d",
   "metadata": {},
   "outputs": [
    {
     "name": "stdout",
     "output_type": "stream",
     "text": [
      "Confidence Interval: (7.043561120599888, 8.756438879400113)\n"
     ]
    }
   ],
   "source": [
    "import numpy as np\n",
    "from scipy.stats import t\n",
    "\n",
    "# Customer satisfaction scores\n",
    "scores = [7, 9, 6, 8, 10, 7, 8, 9, 7, 8]\n",
    "\n",
    "# Calculate the sample mean and standard deviation\n",
    "sample_mean = np.mean(scores)\n",
    "sample_std = np.std(scores, ddof=1)  # ddof=1 for unbiased estimation\n",
    "\n",
    "# Calculate the critical value for the t-distribution\n",
    "alpha = 0.05  # 1 - confidence level\n",
    "df = len(scores) - 1  # degrees of freedom\n",
    "t_critical = t.ppf(1 - alpha/2, df)\n",
    "\n",
    "# Calculate the margin of error\n",
    "margin_of_error = t_critical * (sample_std / np.sqrt(len(scores)))\n",
    "\n",
    "# Calculate the confidence interval\n",
    "confidence_interval = (sample_mean - margin_of_error, sample_mean + margin_of_error)\n",
    "\n",
    "# Print the confidence interval\n",
    "print(\"Confidence Interval:\", confidence_interval)\n"
   ]
  },
  {
   "cell_type": "markdown",
   "id": "8ebf150e",
   "metadata": {},
   "source": [
    "14. Scenario: A company wants to analyze the effect of temperature on product performance. The data collected is as follows:\n",
    "    Temperature (in degrees Celsius): [20, 22, 23, 19, 21]\n",
    "    Performance (on a scale of 1 to 10): [8, 7, 9, 6, 8]\n",
    "    Perform a simple linear regression to predict performance based on temperature.\n",
    "\n"
   ]
  },
  {
   "cell_type": "code",
   "execution_count": 7,
   "id": "cbd82f08",
   "metadata": {},
   "outputs": [
    {
     "data": {
      "image/png": "[encoded data removed]",
      "text/plain": [
       "<Figure size 640x480 with 1 Axes>"
      ]
     },
     "metadata": {},
     "output_type": "display_data"
    }
   ],
   "source": [
    "import numpy as np\n",
    "import matplotlib.pyplot as plt\n",
    "from sklearn.linear_model import LinearRegression\n",
    "temperature = np.array([20, 22, 23, 19, 21]).reshape(-1, 1)\n",
    "performance = np.array([8, 7, 9, 6, 8])\n",
    "regression_model = LinearRegression()\n",
    "regression_model.fit(temperature, performance)\n",
    "slope = regression_model.coef_\n",
    "intercept = regression_model.intercept_\n",
    "new_temperature = np.array([24]).reshape(-1, 1)\n",
    "predicted_performance = regression_model.predict(new_temperature)\n",
    "plt.scatter(temperature, performance)\n",
    "plt.plot(temperature, regression_model.predict(temperature), color='red')\n",
    "plt.xlabel('Temperature (°C)')\n",
    "plt.ylabel('Performance')\n",
    "plt.title('Linear Regression: Performance vs Temperature')\n",
    "plt.show()\n"
   ]
  },
  {
   "cell_type": "markdown",
   "id": "b934c0af",
   "metadata": {},
   "source": [
    "15. Scenario: A study is conducted to compare the preferences of two groups of participants. The preferences are measured on a Likert scale from 1 to 5. The data collected is as follows:\n",
    "    Group A: [4, 3, 5, 2, 4]\n",
    "    Group B: [3, 2, 4, 3, 3]\n",
    "    Perform a Mann-Whitney U test to determine if there is a significant difference in the median preferences between the two groups.\n",
    "\n"
   ]
  },
  {
   "cell_type": "code",
   "execution_count": 8,
   "id": "6207195f",
   "metadata": {},
   "outputs": [
    {
     "name": "stdout",
     "output_type": "stream",
     "text": [
      "There is no significant difference in median preferences between the two groups.\n"
     ]
    }
   ],
   "source": [
    "import scipy.stats as stats\n",
    "group_a = np.array([4, 3, 5, 2, 4])\n",
    "group_b = np.array([3, 2, 4, 3, 3])\n",
    "statistic, p_value = stats.mannwhitneyu(group_a, group_b, alternative='two-sided')\n",
    "alpha = 0.05  # significance level\n",
    "if p_value < alpha:\n",
    "    print(\"There is a significant difference in median preferences between the two groups.\")\n",
    "else:\n",
    "    print(\"There is no significant difference in median preferences between the two groups.\")\n"
   ]
  },
  {
   "cell_type": "markdown",
   "id": "016fcbda",
   "metadata": {},
   "source": [
    "16. Scenario: A company wants to analyze the distribution of customer ages. The data collected is as follows:\n",
    "    [25, 30, 35, 40, 45, 50, 55, 60, 65, 70]\n",
    "    Calculate the interquartile range (IQR) of the ages.\n",
    "\n"
   ]
  },
  {
   "cell_type": "code",
   "execution_count": 9,
   "id": "8548e5d4",
   "metadata": {},
   "outputs": [
    {
     "name": "stdout",
     "output_type": "stream",
     "text": [
      "Interquartile range (IQR): 25\n"
     ]
    }
   ],
   "source": [
    "ages = [25, 30, 35, 40, 45, 50, 55, 60, 65, 70]\n",
    "ages_sorted = sorted(ages)\n",
    "n = len(ages_sorted)\n",
    "q1_index = int(n * 0.25)\n",
    "q3_index = int(n * 0.75)\n",
    "q1 = ages_sorted[q1_index]\n",
    "q3 = ages_sorted[q3_index]\n",
    "iqr = q3 - q1\n",
    "print(\"Interquartile range (IQR):\", iqr)\n"
   ]
  },
  {
   "cell_type": "markdown",
   "id": "f6c2d9f4",
   "metadata": {},
   "source": [
    "17. Scenario: A study is conducted to compare the performance of three different machine learning algorithms. The accuracy scores for each algorithm are as follows:\n",
    "    Algorithm A: [0.85, 0.80, 0.82, 0.87, 0.83]\n",
    "    Algorithm B: [0.78, 0.82, 0.84, 0.80, 0.79]\n",
    "    Algorithm C: [0.90, 0.88, 0.89, 0.86, 0.87]\n",
    "    Perform a Kruskal-Wallis test to determine if there is a significant difference in the median accuracy scores between the algorithms.\n",
    "\n",
    "\n",
    "\n"
   ]
  },
  {
   "cell_type": "code",
   "execution_count": 10,
   "id": "4d747106",
   "metadata": {},
   "outputs": [
    {
     "name": "stdout",
     "output_type": "stream",
     "text": [
      "Test statistic: 9.696947935368053\n",
      "p-value: 0.007840333026249539\n"
     ]
    }
   ],
   "source": [
    "import scipy.stats as stats\n",
    "algorithm_A = [0.85, 0.80, 0.82, 0.87, 0.83]\n",
    "algorithm_B = [0.78, 0.82, 0.84, 0.80, 0.79]\n",
    "algorithm_C = [0.90, 0.88, 0.89, 0.86, 0.87]\n",
    "statistic, p_value = stats.kruskal(algorithm_A, algorithm_B, algorithm_C)\n",
    "print(\"Test statistic:\", statistic)\n",
    "print(\"p-value:\", p_value)\n",
    "\n"
   ]
  },
  {
   "cell_type": "markdown",
   "id": "90a6bccd",
   "metadata": {},
   "source": [
    "18. Scenario: A company wants to analyze the effect of price on sales. The data collected is as follows:\n",
    "    Price (in dollars): [10, 15, 12, 8, 14]\n",
    "    Sales: [100, 80, 90, 110, 95]\n",
    "    Perform a simple linear regression to predict sales based on price.\n",
    "\n"
   ]
  },
  {
   "cell_type": "code",
   "execution_count": 12,
   "id": "90741aa8",
   "metadata": {},
   "outputs": [
    {
     "name": "stdout",
     "output_type": "stream",
     "text": [
      "                            OLS Regression Results                            \n",
      "==============================================================================\n",
      "Dep. Variable:                      y   R-squared:                       0.806\n",
      "Model:                            OLS   Adj. R-squared:                  0.742\n",
      "Method:                 Least Squares   F-statistic:                     12.50\n",
      "Date:                Tue, 18 Jul 2023   Prob (F-statistic):             0.0385\n",
      "Time:                        15:34:42   Log-Likelihood:                -14.503\n",
      "No. Observations:                   5   AIC:                             33.01\n",
      "Df Residuals:                       3   BIC:                             32.22\n",
      "Df Model:                           1                                         \n",
      "Covariance Type:            nonrobust                                         \n",
      "==============================================================================\n",
      "                 coef    std err          t      P>|t|      [0.025      0.975]\n",
      "------------------------------------------------------------------------------\n",
      "const        136.3720     11.976     11.387      0.001      98.259     174.485\n",
      "x1            -3.5061      0.992     -3.535      0.039      -6.663      -0.350\n",
      "==============================================================================\n",
      "Omnibus:                          nan   Durbin-Watson:                   0.811\n",
      "Prob(Omnibus):                    nan   Jarque-Bera (JB):                0.632\n",
      "Skew:                           0.770   Prob(JB):                        0.729\n",
      "Kurtosis:                       2.186   Cond. No.                         57.3\n",
      "==============================================================================\n",
      "\n",
      "Notes:\n",
      "[1] Standard Errors assume that the covariance matrix of the errors is correctly specified.\n",
      "Predicted sales: 73.2621951219512\n"
     ]
    },
    {
     "name": "stderr",
     "output_type": "stream",
     "text": [
      "C:\\Users\\SanthanaLakshmi\\anaconda3\\lib\\site-packages\\statsmodels\\stats\\stattools.py:74: ValueWarning: omni_normtest is not valid with less than 8 observations; 5 samples were given.\n",
      "  warn(\"omni_normtest is not valid with less than 8 observations; %i \"\n"
     ]
    }
   ],
   "source": [
    "import numpy as np\n",
    "import statsmodels.api as sm\n",
    "price = [10, 15, 12, 8, 14]\n",
    "sales = [100, 80, 90, 110, 95]\n",
    "price_with_constant = sm.add_constant(price)\n",
    "model = sm.OLS(sales, price_with_constant)\n",
    "results = model.fit()\n",
    "print(results.summary())\n",
    "intercept = results.params[0]\n",
    "slope = results.params[1]\n",
    "new_price = 18\n",
    "predicted_sales = intercept + slope * new_price\n",
    "print(\"Predicted sales:\", predicted_sales)\n"
   ]
  },
  {
   "cell_type": "markdown",
   "id": "d19e4e96",
   "metadata": {},
   "source": [
    "19. Scenario: A survey is conducted to measure the satisfaction levels of customers with a new product. The data collected is as follows:\n",
    "    [7, 8, 9, 6, 8, 7, 9, 7, 8, 7]\n",
    "    Calculate the standard error of the mean satisfaction score.\n",
    "\n"
   ]
  },
  {
   "cell_type": "markdown",
   "id": "f95f54e8",
   "metadata": {},
   "source": [
    "Standard Error (SE) = Standard Deviation (SD) / sqrt(n)\n",
    "\n",
    "where SD is the standard deviation of the satisfaction scores and n is the number of observations.\n",
    "\n",
    "Let's calculate the standard error for the given data:\n",
    "\n",
    "Data: [7, 8, 9, 6, 8, 7, 9, 7, 8, 7]\n",
    "\n",
    "Calculate the mean of the satisfaction scores:\n",
    "mean = (7 + 8 + 9 + 6 + 8 + 7 + 9 + 7 + 8 + 7) / 10 = 7.8\n",
    "\n",
    "Calculate the squared differences from the mean for each observation:\n",
    "(7 - 7.8)^2, (8 - 7.8)^2, (9 - 7.8)^2, (6 - 7.8)^2, (8 - 7.8)^2, (7 - 7.8)^2, (9 - 7.8)^2, (7 - 7.8)^2, (8 - 7.8)^2, (7 - 7.8)^2\n",
    "\n",
    "Calculate the sum of squared differences:\n",
    "sum_of_squared_differences = (7 - 7.8)^2 + (8 - 7.8)^2 + (9 - 7.8)^2 + (6 - 7.8)^2 + (8 - 7.8)^2 + (7 - 7.8)^2 + (9 - 7.8)^2 + (7 - 7.8)^2 + (8 - 7.8)^2 + (7 - 7.8)^2 = 6.4\n",
    "\n",
    "Calculate the variance:\n",
    "variance = sum_of_squared_differences / (n - 1) = 6.4 / (10 - 1) = 0.7111\n",
    "\n",
    "Calculate the standard deviation:\n",
    "standard_deviation = sqrt(variance) = sqrt(0.7111) = 0.8439\n",
    "\n",
    "Calculate the standard error:\n",
    "standard_error = standard_deviation / sqrt(n) = 0.8439 / sqrt(10) ≈ 0.2669\n",
    "\n",
    "Therefore, the standard error of the mean satisfaction score is approximately 0.2669."
   ]
  },
  {
   "cell_type": "markdown",
   "id": "ba656daf",
   "metadata": {},
   "source": [
    "20. Scenario: A company wants to analyze the relationship between advertising expenditure and sales. The data collected is as follows:\n",
    "    Advertising Expenditure (in thousands): [10, 15, 12, 8, 14]\n",
    "    Sales (in thousands): [25, 30, 28, 20, 26]\n",
    "    Perform a multiple regression analysis to predict sales based on advertising expenditure."
   ]
  },
  {
   "cell_type": "code",
   "execution_count": 14,
   "id": "a2928c54",
   "metadata": {},
   "outputs": [
    {
     "name": "stdout",
     "output_type": "stream",
     "text": [
      "Regression Equation: Sales = 1.152439024390244 * Advertising Expenditure + 12.20121951219512\n"
     ]
    }
   ],
   "source": [
    "import numpy as np\n",
    "from sklearn.linear_model import LinearRegression\n",
    "\n",
    "# Define the advertising expenditure (independent variable) and sales (dependent variable)\n",
    "advertising_expenditure = np.array([10, 15, 12, 8, 14]).reshape((-1, 1))\n",
    "sales = np.array([25, 30, 28, 20, 26])\n",
    "\n",
    "# Fit the linear regression model\n",
    "model = LinearRegression().fit(advertising_expenditure, sales)\n",
    "\n",
    "# Get the coefficients and intercept of the linear regression model\n",
    "coefficient = model.coef_[0]\n",
    "intercept = model.intercept_\n",
    "\n",
    "# Print the equation of the regression line\n",
    "print(\"Regression Equation: Sales = {} * Advertising Expenditure + {}\".format(coefficient, intercept))\n"
   ]
  }
 ],
 "metadata": {
  "kernelspec": {
   "display_name": "Python 3 (ipykernel)",
   "language": "python",
   "name": "python3"
  },
  "language_info": {
   "codemirror_mode": {
    "name": "ipython",
    "version": 3
   },
   "file_extension": ".py",
   "mimetype": "text/x-python",
   "name": "python",
   "nbconvert_exporter": "python",
   "pygments_lexer": "ipython3",
   "version": "3.9.13"
  }
 },
 "nbformat": 4,
 "nbformat_minor": 5
}
