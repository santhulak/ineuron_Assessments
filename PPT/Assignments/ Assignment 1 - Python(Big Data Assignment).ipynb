{
 "cells": [
  {
   "cell_type": "markdown",
   "id": "973fbc1c",
   "metadata": {},
   "source": [
    "1. Write a Python program to check if a given string is an anagram.\n"
   ]
  },
  {
   "cell_type": "code",
   "execution_count": 1,
   "id": "d2cf3311",
   "metadata": {},
   "outputs": [
    {
     "name": "stdout",
     "output_type": "stream",
     "text": [
      "listen and silent are anagrams.\n"
     ]
    }
   ],
   "source": [
    "def is_anagram(str1, str2):\n",
    "    # Convert both strings to lowercase\n",
    "    str1 = str1.lower()\n",
    "    str2 = str2.lower()\n",
    "\n",
    "    # Remove any whitespace from the strings\n",
    "    str1 = str1.replace(\" \", \"\")\n",
    "    str2 = str2.replace(\" \", \"\")\n",
    "\n",
    "    # Sort the characters in both strings\n",
    "    sorted_str1 = sorted(str1)\n",
    "    sorted_str2 = sorted(str2)\n",
    "\n",
    "    # Compare the sorted strings\n",
    "    return sorted_str1 == sorted_str2\n",
    "\n",
    "# Example usage:\n",
    "string1 = \"listen\"\n",
    "string2 = \"silent\"\n",
    "if is_anagram(string1, string2):\n",
    "    print(f\"{string1} and {string2} are anagrams.\")\n",
    "else:\n",
    "    print(f\"{string1} and {string2} are not anagrams.\")\n"
   ]
  },
  {
   "cell_type": "markdown",
   "id": "5d83d5ff",
   "metadata": {},
   "source": [
    "2. Write a Python program to find the maximum and minimum values in a dictionary.\n"
   ]
  },
  {
   "cell_type": "code",
   "execution_count": 2,
   "id": "1c9c8e06",
   "metadata": {},
   "outputs": [
    {
     "name": "stdout",
     "output_type": "stream",
     "text": [
      "Maximum value: 20\n",
      "Minimum value: 5\n"
     ]
    }
   ],
   "source": [
    "def find_max_min_values(dictionary):\n",
    "    if len(dictionary) == 0:\n",
    "        print(\"Dictionary is empty.\")\n",
    "        return\n",
    "\n",
    "    max_value = max(dictionary, key=dictionary.get)\n",
    "    min_value = min(dictionary, key=dictionary.get)\n",
    "\n",
    "    print(\"Maximum value:\", dictionary[max_value])\n",
    "    print(\"Minimum value:\", dictionary[min_value])\n",
    "\n",
    "# Example usage:\n",
    "my_dict = {\"a\": 10, \"b\": 5, \"c\": 20, \"d\": 15}\n",
    "find_max_min_values(my_dict)\n"
   ]
  },
  {
   "cell_type": "markdown",
   "id": "ef077bd8",
   "metadata": {},
   "source": [
    "3. Write a Python program to find the average of a list of numbers.\n"
   ]
  },
  {
   "cell_type": "code",
   "execution_count": null,
   "id": "4d8671bd",
   "metadata": {},
   "outputs": [],
   "source": [
    "def calculate_average(numbers):\n",
    "    if len(numbers) == 0:\n",
    "        print(\"List is empty.\")\n",
    "        return\n",
    "\n",
    "    total = sum(numbers)\n",
    "    average = total / len(numbers)\n",
    "    return average\n",
    "\n",
    "# Example usage:\n",
    "my_list = [2, 4, 6, 8, 10]\n",
    "result = calculate_average(my_list)\n",
    "print(\"Average:\", result)\n"
   ]
  },
  {
   "cell_type": "markdown",
   "id": "263576c7",
   "metadata": {},
   "source": [
    "4. Write a Python program to remove all vowels from a string.\n"
   ]
  },
  {
   "cell_type": "code",
   "execution_count": 3,
   "id": "c7401089",
   "metadata": {},
   "outputs": [
    {
     "name": "stdout",
     "output_type": "stream",
     "text": [
      "String without vowels: Hll, Wrld!\n"
     ]
    }
   ],
   "source": [
    "def remove_vowels(string):\n",
    "    vowels = 'aeiouAEIOU'\n",
    "    new_string = ''\n",
    "\n",
    "    for char in string:\n",
    "        if char not in vowels:\n",
    "            new_string += char\n",
    "\n",
    "    return new_string\n",
    "\n",
    "# Example usage:\n",
    "my_string = \"Hello, World!\"\n",
    "result = remove_vowels(my_string)\n",
    "print(\"String without vowels:\", result)\n"
   ]
  },
  {
   "cell_type": "markdown",
   "id": "4458c5f5",
   "metadata": {},
   "source": [
    "5. Write a Python function to calculate the factorial of a number using recursion.\n"
   ]
  },
  {
   "cell_type": "code",
   "execution_count": 4,
   "id": "68f639dc",
   "metadata": {},
   "outputs": [
    {
     "name": "stdout",
     "output_type": "stream",
     "text": [
      "Factorial of 5 is 120\n"
     ]
    }
   ],
   "source": [
    "def factorial(n):\n",
    "    # Base case: factorial of 0 is 1\n",
    "    if n == 0:\n",
    "        return 1\n",
    "    # Recursive case: factorial of n is n multiplied by factorial of (n-1)\n",
    "    else:\n",
    "        return n * factorial(n - 1)\n",
    "\n",
    "# Example usage:\n",
    "num = 5\n",
    "result = factorial(num)\n",
    "print(\"Factorial of\", num, \"is\", result)\n"
   ]
  },
  {
   "cell_type": "markdown",
   "id": "aecd00b7",
   "metadata": {},
   "source": [
    "6. Write a Python program to merge two unsorted lists into a single sorted list using the merge sort algorithm.\n"
   ]
  },
  {
   "cell_type": "code",
   "execution_count": 5,
   "id": "1e761f70",
   "metadata": {},
   "outputs": [
    {
     "name": "stdout",
     "output_type": "stream",
     "text": [
      "Merged and sorted list: [1, 2, 3, 4, 5, 6, 7, 8, 9, 10]\n"
     ]
    }
   ],
   "source": [
    "def merge_sort(arr):\n",
    "    # Base case: If the list has only one element, it is already sorted\n",
    "    if len(arr) <= 1:\n",
    "        return arr\n",
    "\n",
    "    # Divide the list into two halves\n",
    "    mid = len(arr) // 2\n",
    "    left = arr[:mid]\n",
    "    right = arr[mid:]\n",
    "\n",
    "    # Recursively sort the two halves\n",
    "    left_sorted = merge_sort(left)\n",
    "    right_sorted = merge_sort(right)\n",
    "\n",
    "    # Merge the sorted halves\n",
    "    return merge(left_sorted, right_sorted)\n",
    "\n",
    "\n",
    "def merge(left, right):\n",
    "    merged = []\n",
    "    left_index = 0\n",
    "    right_index = 0\n",
    "\n",
    "    # Compare elements from the left and right lists and add them to the merged list in sorted order\n",
    "    while left_index < len(left) and right_index < len(right):\n",
    "        if left[left_index] < right[right_index]:\n",
    "            merged.append(left[left_index])\n",
    "            left_index += 1\n",
    "        else:\n",
    "            merged.append(right[right_index])\n",
    "            right_index += 1\n",
    "\n",
    "    # Add any remaining elements from the left list\n",
    "    while left_index < len(left):\n",
    "        merged.append(left[left_index])\n",
    "        left_index += 1\n",
    "\n",
    "    # Add any remaining elements from the right list\n",
    "    while right_index < len(right):\n",
    "        merged.append(right[right_index])\n",
    "        right_index += 1\n",
    "\n",
    "    return merged\n",
    "\n",
    "\n",
    "# Example usage:\n",
    "list1 = [4, 9, 2, 5, 1]\n",
    "list2 = [7, 3, 8, 6, 10]\n",
    "merged_list = merge_sort(list1 + list2)\n",
    "print(\"Merged and sorted list:\", merged_list)\n"
   ]
  },
  {
   "cell_type": "markdown",
   "id": "bb67feb1",
   "metadata": {},
   "source": [
    "7. Write a Python program to find the GCD (Greatest Common Divisor) of two numbers.\n"
   ]
  },
  {
   "cell_type": "code",
   "execution_count": 6,
   "id": "00f8f0e2",
   "metadata": {},
   "outputs": [
    {
     "name": "stdout",
     "output_type": "stream",
     "text": [
      "GCD: 12\n"
     ]
    }
   ],
   "source": [
    "def gcd(a, b):\n",
    "    while b != 0:\n",
    "        a, b = b, a % b\n",
    "    return a\n",
    "\n",
    "# Example usage:\n",
    "num1 = 36\n",
    "num2 = 48\n",
    "\n",
    "result = gcd(num1, num2)\n",
    "print(\"GCD:\", result)\n"
   ]
  },
  {
   "cell_type": "markdown",
   "id": "ba84d8e6",
   "metadata": {},
   "source": [
    "8. Write a Python program to find the second-largest element in a list.\n"
   ]
  },
  {
   "cell_type": "code",
   "execution_count": 7,
   "id": "135f9c05",
   "metadata": {},
   "outputs": [
    {
     "name": "stdout",
     "output_type": "stream",
     "text": [
      "Second largest element: 10\n"
     ]
    }
   ],
   "source": [
    "def find_second_largest(nums):\n",
    "    # Sort the list in descending order\n",
    "    sorted_nums = sorted(nums, reverse=True)\n",
    "    \n",
    "    # Return the element at index 1 (second largest)\n",
    "    return sorted_nums[1]\n",
    "\n",
    "# Example usage:\n",
    "numbers = [10, 5, 8, 12, 3, 7]\n",
    "\n",
    "second_largest = find_second_largest(numbers)\n",
    "print(\"Second largest element:\", second_largest)\n"
   ]
  },
  {
   "cell_type": "markdown",
   "id": "f42fd51a",
   "metadata": {},
   "source": [
    "9. Write a Python program to find the longest common subsequence between two strings using dynamic programming."
   ]
  },
  {
   "cell_type": "code",
   "execution_count": 8,
   "id": "3b94b024",
   "metadata": {},
   "outputs": [
    {
     "name": "stdout",
     "output_type": "stream",
     "text": [
      "Longest Common Subsequence: GTAB\n"
     ]
    }
   ],
   "source": [
    "def longest_common_subsequence(str1, str2):\n",
    "    m = len(str1)\n",
    "    n = len(str2)\n",
    "    \n",
    "    # Create a 2D table to store the lengths of common subsequences\n",
    "    dp = [[0] * (n+1) for _ in range(m+1)]\n",
    "    \n",
    "    # Fill the table using dynamic programming\n",
    "    for i in range(1, m+1):\n",
    "        for j in range(1, n+1):\n",
    "            if str1[i-1] == str2[j-1]:\n",
    "                dp[i][j] = dp[i-1][j-1] + 1\n",
    "            else:\n",
    "                dp[i][j] = max(dp[i-1][j], dp[i][j-1])\n",
    "    \n",
    "    # Retrieve the longest common subsequence by backtracking\n",
    "    lcs = \"\"\n",
    "    i = m\n",
    "    j = n\n",
    "    while i > 0 and j > 0:\n",
    "        if str1[i-1] == str2[j-1]:\n",
    "            lcs = str1[i-1] + lcs\n",
    "            i -= 1\n",
    "            j -= 1\n",
    "        elif dp[i-1][j] > dp[i][j-1]:\n",
    "            i -= 1\n",
    "        else:\n",
    "            j -= 1\n",
    "    \n",
    "    return lcs\n",
    "\n",
    "\n",
    "# Example usage:\n",
    "str1 = \"AGGTAB\"\n",
    "str2 = \"GXTXAYB\"\n",
    "\n",
    "lcs = longest_common_subsequence(str1, str2)\n",
    "print(\"Longest Common Subsequence:\", lcs)\n"
   ]
  }
 ],
 "metadata": {
  "kernelspec": {
   "display_name": "Python 3 (ipykernel)",
   "language": "python",
   "name": "python3"
  },
  "language_info": {
   "codemirror_mode": {
    "name": "ipython",
    "version": 3
   },
   "file_extension": ".py",
   "mimetype": "text/x-python",
   "name": "python",
   "nbconvert_exporter": "python",
   "pygments_lexer": "ipython3",
   "version": "3.9.13"
  }
 },
 "nbformat": 4,
 "nbformat_minor": 5
}
