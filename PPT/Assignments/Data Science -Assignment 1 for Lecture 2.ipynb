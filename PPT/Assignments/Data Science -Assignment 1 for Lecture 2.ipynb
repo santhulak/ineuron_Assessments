{
 "cells": [
  {
   "cell_type": "markdown",
   "id": "4777e1e5",
   "metadata": {},
   "source": [
    "1. Write a Python program to reverse a string without using any built-in string reversal functions.\n",
    "\n"
   ]
  },
  {
   "cell_type": "code",
   "execution_count": 1,
   "id": "8bfa512f",
   "metadata": {},
   "outputs": [
    {
     "name": "stdout",
     "output_type": "stream",
     "text": [
      "Reversed string: !dlroW ,olleH\n"
     ]
    }
   ],
   "source": [
    "def reverse_string(string):\n",
    "    reversed_string = ''\n",
    "    index = len(string) - 1\n",
    "\n",
    "    while index >= 0:\n",
    "        reversed_string += string[index]\n",
    "        index -= 1\n",
    "\n",
    "    return reversed_string\n",
    "\n",
    "# Test the function\n",
    "input_string = 'Hello, World!'\n",
    "reversed_string = reverse_string(input_string)\n",
    "print(\"Reversed string:\", reversed_string)\n"
   ]
  },
  {
   "cell_type": "markdown",
   "id": "8786697f",
   "metadata": {},
   "source": [
    "2. Implement a function to check if a given string is a palindrome.\n"
   ]
  },
  {
   "cell_type": "code",
   "execution_count": 2,
   "id": "7f474117",
   "metadata": {},
   "outputs": [
    {
     "name": "stdout",
     "output_type": "stream",
     "text": [
      "True\n",
      "False\n"
     ]
    }
   ],
   "source": [
    "def is_palindrome(string):\n",
    "    # Remove any non-alphanumeric characters and convert to lowercase\n",
    "    string = ''.join(char.lower() for char in string if char.isalnum())\n",
    "\n",
    "    # Compare the string with its reverse\n",
    "    return string == string[::-1]\n",
    "\n",
    "# Test the function\n",
    "input_string = \"A man, a plan, a canal, Panama!\"\n",
    "print(is_palindrome(input_string)) \n",
    "\n",
    "input_string = \"Hello, World!\"\n",
    "print(is_palindrome(input_string)) \n"
   ]
  },
  {
   "cell_type": "markdown",
   "id": "da7da423",
   "metadata": {},
   "source": [
    "3. Write a program to find the largest element in a given list.\n"
   ]
  },
  {
   "cell_type": "code",
   "execution_count": 3,
   "id": "d8fb2f36",
   "metadata": {},
   "outputs": [
    {
     "name": "stdout",
     "output_type": "stream",
     "text": [
      "Largest element: 89\n"
     ]
    }
   ],
   "source": [
    "def find_largest_element(lst):\n",
    "    if not lst:\n",
    "        # Return None if the list is empty\n",
    "        return None\n",
    "\n",
    "    # Initialize the largest element to the first element of the list\n",
    "    largest = lst[0]\n",
    "\n",
    "    # Iterate through the remaining elements of the list\n",
    "    for num in lst[1:]:\n",
    "        if num > largest:\n",
    "            # Update the largest element if a larger element is found\n",
    "            largest = num\n",
    "\n",
    "    return largest\n",
    "\n",
    "# Test the function\n",
    "numbers = [12, 45, 78, 23, 56, 89, 34]\n",
    "largest_element = find_largest_element(numbers)\n",
    "print(\"Largest element:\", largest_element)\n"
   ]
  },
  {
   "cell_type": "markdown",
   "id": "ef11e132",
   "metadata": {},
   "source": [
    "4. Implement a function to count the occurrence of each element in a list.\n"
   ]
  },
  {
   "cell_type": "code",
   "execution_count": 4,
   "id": "a7088d1c",
   "metadata": {},
   "outputs": [
    {
     "name": "stdout",
     "output_type": "stream",
     "text": [
      "Occurrences: {1: 3, 2: 3, 3: 2, 4: 3, 5: 1}\n"
     ]
    }
   ],
   "source": [
    "def count_occurrences(lst):\n",
    "    # Create an empty dictionary to store the element counts\n",
    "    counts = {}\n",
    "\n",
    "    # Iterate through the list\n",
    "    for element in lst:\n",
    "        # Check if the element is already in the dictionary\n",
    "        if element in counts:\n",
    "            # If yes, increment the count by 1\n",
    "            counts[element] += 1\n",
    "        else:\n",
    "            # If not, add the element to the dictionary with count 1\n",
    "            counts[element] = 1\n",
    "\n",
    "    return counts\n",
    "\n",
    "# Test the function\n",
    "numbers = [1, 2, 3, 2, 1, 3, 4, 5, 1, 2, 4, 4]\n",
    "occurrences = count_occurrences(numbers)\n",
    "print(\"Occurrences:\", occurrences)\n"
   ]
  },
  {
   "cell_type": "code",
   "execution_count": null,
   "id": "c458cf12",
   "metadata": {},
   "outputs": [],
   "source": [
    "5. Write a Python program to find the second largest number in a list.\n"
   ]
  },
  {
   "cell_type": "code",
   "execution_count": 5,
   "id": "5aaf950c",
   "metadata": {},
   "outputs": [
    {
     "name": "stdout",
     "output_type": "stream",
     "text": [
      "Second largest number: 8\n"
     ]
    }
   ],
   "source": [
    "def find_second_largest(numbers):\n",
    "    # Initialize variables to store the largest and second largest numbers\n",
    "    largest = float('-inf')\n",
    "    second_largest = float('-inf')\n",
    "\n",
    "    # Iterate through the list\n",
    "    for num in numbers:\n",
    "        # Check if the current number is larger than the largest number\n",
    "        if num > largest:\n",
    "            # If yes, update the largest and second largest numbers accordingly\n",
    "            second_largest = largest\n",
    "            largest = num\n",
    "        # Check if the current number is larger than the second largest number but not the largest\n",
    "        elif num > second_largest and num != largest:\n",
    "            # If yes, update the second largest number\n",
    "            second_largest = num\n",
    "\n",
    "    return second_largest\n",
    "\n",
    "\n",
    "# Test the function\n",
    "num_list = [5, 10, 3, 8, 2, 7]\n",
    "second_largest_num = find_second_largest(num_list)\n",
    "print(\"Second largest number:\", second_largest_num)\n"
   ]
  },
  {
   "cell_type": "markdown",
   "id": "c38f9dd0",
   "metadata": {},
   "source": [
    "6. Implement a function to remove duplicate elements from a list.\n"
   ]
  },
  {
   "cell_type": "code",
   "execution_count": 6,
   "id": "4f083963",
   "metadata": {},
   "outputs": [
    {
     "name": "stdout",
     "output_type": "stream",
     "text": [
      "List with duplicates removed: [1, 2, 3, 4, 5]\n"
     ]
    }
   ],
   "source": [
    "def remove_duplicates(lst):\n",
    "    # Create an empty set to store unique elements\n",
    "    unique_set = set()\n",
    "\n",
    "    # Create a new list to store the unique elements in the original order\n",
    "    unique_list = []\n",
    "\n",
    "    # Iterate through the list\n",
    "    for item in lst:\n",
    "        # Check if the item is not already in the unique set\n",
    "        if item not in unique_set:\n",
    "            # Add the item to the unique set\n",
    "            unique_set.add(item)\n",
    "            # Append the item to the unique list\n",
    "            unique_list.append(item)\n",
    "\n",
    "    return unique_list\n",
    "\n",
    "\n",
    "# Test the function\n",
    "my_list = [1, 2, 2, 3, 4, 4, 5, 5, 5]\n",
    "result = remove_duplicates(my_list)\n",
    "print(\"List with duplicates removed:\", result)\n"
   ]
  },
  {
   "cell_type": "markdown",
   "id": "c8106de7",
   "metadata": {},
   "source": [
    "7. Write a program to calculate the factorial of a given number.\n"
   ]
  },
  {
   "cell_type": "code",
   "execution_count": 7,
   "id": "860ccd90",
   "metadata": {},
   "outputs": [
    {
     "name": "stdout",
     "output_type": "stream",
     "text": [
      "Enter a number: 23\n",
      "Factorial of 23 is 25852016738884976640000\n"
     ]
    }
   ],
   "source": [
    "def factorial(n):\n",
    "    if n == 0:\n",
    "        return 1\n",
    "    else:\n",
    "        return n * factorial(n-1)\n",
    "\n",
    "# Test the program\n",
    "number = int(input(\"Enter a number: \"))\n",
    "result = factorial(number)\n",
    "print(\"Factorial of\", number, \"is\", result)\n"
   ]
  },
  {
   "cell_type": "markdown",
   "id": "e104b59e",
   "metadata": {},
   "source": [
    "8. Implement a function to check if a given number is prime.\n"
   ]
  },
  {
   "cell_type": "code",
   "execution_count": 9,
   "id": "a54461f4",
   "metadata": {},
   "outputs": [
    {
     "name": "stdout",
     "output_type": "stream",
     "text": [
      "Enter a number: 39\n",
      "39 is not prime\n"
     ]
    }
   ],
   "source": [
    "def is_prime(number):\n",
    "    if number <= 1:\n",
    "        return False\n",
    "    for i in range(2, int(number**0.5) + 1):\n",
    "        if number % i == 0:\n",
    "            return False\n",
    "    return True\n",
    "number = int(input(\"Enter a number: \"))\n",
    "if is_prime(number):\n",
    "    print(number, \"is prime\")\n",
    "else:\n",
    "    print(number, \"is not prime\")\n"
   ]
  },
  {
   "cell_type": "markdown",
   "id": "f4bc2506",
   "metadata": {},
   "source": [
    "9. Write a Python program to sort a list of integers in ascending order.\n"
   ]
  },
  {
   "cell_type": "code",
   "execution_count": 10,
   "id": "9d4907d3",
   "metadata": {},
   "outputs": [
    {
     "name": "stdout",
     "output_type": "stream",
     "text": [
      "Sorted list: [1, 2, 5, 7, 9]\n"
     ]
    }
   ],
   "source": [
    "def sort_list(numbers):\n",
    "    numbers.sort()\n",
    "\n",
    "# Example usage\n",
    "numbers = [5, 2, 9, 1, 7]\n",
    "sort_list(numbers)\n",
    "print(\"Sorted list:\", numbers)\n"
   ]
  },
  {
   "cell_type": "markdown",
   "id": "fd62e531",
   "metadata": {},
   "source": [
    "10. Implement a function to find the sum of all numbers in a list.\n"
   ]
  },
  {
   "cell_type": "code",
   "execution_count": 11,
   "id": "de411310",
   "metadata": {},
   "outputs": [
    {
     "name": "stdout",
     "output_type": "stream",
     "text": [
      "Sum: 15\n"
     ]
    }
   ],
   "source": [
    "def calculate_sum(numbers):\n",
    "    total = sum(numbers)\n",
    "    return total\n",
    "\n",
    "# Example usage\n",
    "numbers = [1, 2, 3, 4, 5]\n",
    "sum_of_numbers = calculate_sum(numbers)\n",
    "print(\"Sum:\", sum_of_numbers)\n"
   ]
  },
  {
   "cell_type": "markdown",
   "id": "798561bc",
   "metadata": {},
   "source": [
    "11. Write a program to find the common elements between two lists.\n"
   ]
  },
  {
   "cell_type": "code",
   "execution_count": 12,
   "id": "3f00b9c3",
   "metadata": {},
   "outputs": [
    {
     "name": "stdout",
     "output_type": "stream",
     "text": [
      "Common Elements: [4, 5]\n"
     ]
    }
   ],
   "source": [
    "def find_common_elements(list1, list2):\n",
    "    common_elements = set(list1) & set(list2)\n",
    "    return list(common_elements)\n",
    "\n",
    "# Example usage\n",
    "list1 = [1, 2, 3, 4, 5]\n",
    "list2 = [4, 5, 6, 7, 8]\n",
    "common_elements = find_common_elements(list1, list2)\n",
    "print(\"Common Elements:\", common_elements)\n"
   ]
  },
  {
   "cell_type": "markdown",
   "id": "b327d4fb",
   "metadata": {},
   "source": [
    "12. Implement a function to check if a given string is an anagram of another string.\n"
   ]
  },
  {
   "cell_type": "code",
   "execution_count": 13,
   "id": "6f457ff0",
   "metadata": {},
   "outputs": [
    {
     "name": "stdout",
     "output_type": "stream",
     "text": [
      "The strings are anagrams.\n"
     ]
    }
   ],
   "source": [
    "def is_anagram(str1, str2):\n",
    "    # Convert both strings to lowercase and remove spaces\n",
    "    str1 = str1.lower().replace(\" \", \"\")\n",
    "    str2 = str2.lower().replace(\" \", \"\")\n",
    "    \n",
    "    # Check if the sorted characters of both strings are equal\n",
    "    return sorted(str1) == sorted(str2)\n",
    "\n",
    "# Example usage\n",
    "string1 = \"listen\"\n",
    "string2 = \"silent\"\n",
    "if is_anagram(string1, string2):\n",
    "    print(\"The strings are anagrams.\")\n",
    "else:\n",
    "    print(\"The strings are not anagrams.\")\n"
   ]
  },
  {
   "cell_type": "markdown",
   "id": "76394479",
   "metadata": {},
   "source": [
    "13. Write a Python program to generate all permutations of a given string.\n"
   ]
  },
  {
   "cell_type": "code",
   "execution_count": 14,
   "id": "946fb0f0",
   "metadata": {},
   "outputs": [
    {
     "name": "stdout",
     "output_type": "stream",
     "text": [
      "abc\n",
      "acb\n",
      "bac\n",
      "bca\n",
      "cab\n",
      "cba\n"
     ]
    }
   ],
   "source": [
    "from itertools import permutations\n",
    "\n",
    "def generate_permutations(string):\n",
    "    # Generate all permutations of the string\n",
    "    perms = permutations(string)\n",
    "\n",
    "    # Convert each permutation to a string and store in a list\n",
    "    result = [''.join(perm) for perm in perms]\n",
    "\n",
    "    return result\n",
    "\n",
    "# Example usage\n",
    "input_string = \"abc\"\n",
    "permutations_list = generate_permutations(input_string)\n",
    "\n",
    "# Print the permutations\n",
    "for perm in permutations_list:\n",
    "    print(perm)\n"
   ]
  },
  {
   "cell_type": "markdown",
   "id": "5faadea5",
   "metadata": {},
   "source": [
    "14. Implement a function to calculate the Fibonacci sequence up to a given number of terms.\n"
   ]
  },
  {
   "cell_type": "code",
   "execution_count": 15,
   "id": "67544565",
   "metadata": {},
   "outputs": [
    {
     "name": "stdout",
     "output_type": "stream",
     "text": [
      "0\n",
      "1\n",
      "1\n",
      "2\n",
      "3\n",
      "5\n",
      "8\n",
      "13\n",
      "21\n",
      "34\n"
     ]
    }
   ],
   "source": [
    "def fibonacci_sequence(n):\n",
    "    sequence = []  # Initialize an empty list to store the sequence\n",
    "\n",
    "    # Handle the base cases\n",
    "    if n >= 1:\n",
    "        sequence.append(0)  # First term is 0\n",
    "    if n >= 2:\n",
    "        sequence.append(1)  # Second term is 1\n",
    "\n",
    "    # Generate the remaining terms\n",
    "    for i in range(2, n):\n",
    "        term = sequence[i-1] + sequence[i-2]\n",
    "        sequence.append(term)\n",
    "\n",
    "    return sequence\n",
    "\n",
    "# Example usage\n",
    "num_terms = 10\n",
    "fib_sequence = fibonacci_sequence(num_terms)\n",
    "\n",
    "# Print the Fibonacci sequence\n",
    "for term in fib_sequence:\n",
    "    print(term)\n"
   ]
  },
  {
   "cell_type": "markdown",
   "id": "585e69bb",
   "metadata": {},
   "source": [
    "15. Write a program to find the median of a list of numbers.\n"
   ]
  },
  {
   "cell_type": "code",
   "execution_count": 16,
   "id": "bf757800",
   "metadata": {},
   "outputs": [
    {
     "name": "stdout",
     "output_type": "stream",
     "text": [
      "Median: 5\n"
     ]
    }
   ],
   "source": [
    "def find_median(numbers):\n",
    "    sorted_numbers = sorted(numbers)  # Sort the numbers in ascending order\n",
    "    n = len(sorted_numbers)\n",
    "    \n",
    "    if n % 2 == 0:\n",
    "        # If the number of elements is even, calculate the average of the middle two elements\n",
    "        middle_index = n // 2\n",
    "        median = (sorted_numbers[middle_index - 1] + sorted_numbers[middle_index]) / 2\n",
    "    else:\n",
    "        # If the number of elements is odd, the median is the middle element\n",
    "        middle_index = n // 2\n",
    "        median = sorted_numbers[middle_index]\n",
    "    \n",
    "    return median\n",
    "\n",
    "\n",
    "# Example usage\n",
    "number_list = [5, 2, 8, 1, 9, 3, 7]\n",
    "result = find_median(number_list)\n",
    "print(\"Median:\", result)\n"
   ]
  },
  {
   "cell_type": "markdown",
   "id": "b9e363e7",
   "metadata": {},
   "source": [
    "16. Implement a function to check if a given list is sorted in non-decreasing order.\n"
   ]
  },
  {
   "cell_type": "code",
   "execution_count": 18,
   "id": "a592e89a",
   "metadata": {},
   "outputs": [
    {
     "name": "stdout",
     "output_type": "stream",
     "text": [
      "Sorted in Decreasing Order? True\n"
     ]
    }
   ],
   "source": [
    "def is_sorted(numbers):\n",
    "    n = len(numbers)\n",
    "    \n",
    "    for i in range(1, n):\n",
    "        if numbers[i] < numbers[i - 1]:\n",
    "            return False\n",
    "    \n",
    "    return True\n",
    "\n",
    "\n",
    "# Example usage\n",
    "number_list = [1, 2, 3, 4, 5]\n",
    "result = is_sorted(number_list)\n",
    "print(\"Sorted in Decreasing Order?\", result)\n"
   ]
  },
  {
   "cell_type": "markdown",
   "id": "84cdaa51",
   "metadata": {},
   "source": [
    "17. Write a Python program to find the intersection of two lists.\n"
   ]
  },
  {
   "cell_type": "code",
   "execution_count": 19,
   "id": "c3d5978e",
   "metadata": {},
   "outputs": [
    {
     "name": "stdout",
     "output_type": "stream",
     "text": [
      "Intersection: [4, 5]\n"
     ]
    }
   ],
   "source": [
    "def find_intersection(list1, list2):\n",
    "    intersection = set(list1) & set(list2)\n",
    "    return list(intersection)\n",
    "\n",
    "\n",
    "# Example usage\n",
    "list1 = [1, 2, 3, 4, 5]\n",
    "list2 = [4, 5, 6, 7, 8]\n",
    "intersection = find_intersection(list1, list2)\n",
    "print(\"Intersection:\", intersection)\n"
   ]
  },
  {
   "cell_type": "markdown",
   "id": "af4b27ed",
   "metadata": {},
   "source": [
    "18. Implement a function to find the maximum subarray sum in a given list.\n"
   ]
  },
  {
   "cell_type": "code",
   "execution_count": 20,
   "id": "ddcb4afe",
   "metadata": {},
   "outputs": [
    {
     "name": "stdout",
     "output_type": "stream",
     "text": [
      "Maximum subarray sum: 6\n"
     ]
    }
   ],
   "source": [
    "def max_subarray_sum(nums):\n",
    "    max_sum = float('-inf')\n",
    "    current_sum = 0\n",
    "\n",
    "    for num in nums:\n",
    "        current_sum += num\n",
    "        if current_sum > max_sum:\n",
    "            max_sum = current_sum\n",
    "        if current_sum < 0:\n",
    "            current_sum = 0\n",
    "\n",
    "    return max_sum\n",
    "\n",
    "\n",
    "# Example usage\n",
    "nums = [-2, 1, -3, 4, -1, 2, 1, -5, 4]\n",
    "max_sum = max_subarray_sum(nums)\n",
    "print(\"Maximum subarray sum:\", max_sum)\n"
   ]
  },
  {
   "cell_type": "markdown",
   "id": "8d569ab2",
   "metadata": {},
   "source": [
    "19. Write a program to remove all vowels from a given string.\n"
   ]
  },
  {
   "cell_type": "code",
   "execution_count": 21,
   "id": "4f43a2ed",
   "metadata": {},
   "outputs": [
    {
     "name": "stdout",
     "output_type": "stream",
     "text": [
      "String without vowels: Hll, Wrld!\n"
     ]
    }
   ],
   "source": [
    "def remove_vowels(string):\n",
    "    vowels = 'aeiouAEIOU'\n",
    "    without_vowels = ''.join(char for char in string if char not in vowels)\n",
    "    return without_vowels\n",
    "\n",
    "\n",
    "# Example usage\n",
    "input_string = \"Hello, World!\"\n",
    "result = remove_vowels(input_string)\n",
    "print(\"String without vowels:\", result)\n"
   ]
  },
  {
   "cell_type": "code",
   "execution_count": null,
   "id": "d02ae3c5",
   "metadata": {},
   "outputs": [],
   "source": [
    "20. Implement a function to reverse the order of words in a given sentence.\n"
   ]
  },
  {
   "cell_type": "code",
   "execution_count": 22,
   "id": "a4fb85a3",
   "metadata": {},
   "outputs": [
    {
     "name": "stdout",
     "output_type": "stream",
     "text": [
      "Reversed sentence: Python. to Welcome world! Hello,\n"
     ]
    }
   ],
   "source": [
    "def reverse_sentence(sentence):\n",
    "    words = sentence.split()\n",
    "    reversed_words = words[::-1]\n",
    "    reversed_sentence = ' '.join(reversed_words)\n",
    "    return reversed_sentence\n",
    "\n",
    "\n",
    "# Example usage\n",
    "input_sentence = \"Hello, world! Welcome to Python.\"\n",
    "reversed_sentence = reverse_sentence(input_sentence)\n",
    "print(\"Reversed sentence:\", reversed_sentence)\n"
   ]
  },
  {
   "cell_type": "code",
   "execution_count": null,
   "id": "ae030803",
   "metadata": {},
   "outputs": [],
   "source": [
    "21. Write a Python program to check if two strings are anagrams of each other.\n"
   ]
  },
  {
   "cell_type": "code",
   "execution_count": 23,
   "id": "acd1f1a3",
   "metadata": {},
   "outputs": [
    {
     "name": "stdout",
     "output_type": "stream",
     "text": [
      "The strings are anagrams.\n"
     ]
    }
   ],
   "source": [
    "def are_anagrams(string1, string2):\n",
    "    # Convert strings to lowercase and remove spaces\n",
    "    string1 = string1.lower().replace(\" \", \"\")\n",
    "    string2 = string2.lower().replace(\" \", \"\")\n",
    "    \n",
    "    # Check if the sorted characters of both strings are equal\n",
    "    return sorted(string1) == sorted(string2)\n",
    "\n",
    "\n",
    "# Example usage\n",
    "input_string1 = \"listen\"\n",
    "input_string2 = \"silent\"\n",
    "\n",
    "if are_anagrams(input_string1, input_string2):\n",
    "    print(\"The strings are anagrams.\")\n",
    "else:\n",
    "    print(\"The strings are not anagrams.\")\n"
   ]
  },
  {
   "cell_type": "markdown",
   "id": "e294fe1b",
   "metadata": {},
   "source": [
    "22. Implement a function to find the first non-repeating character in a string.\n"
   ]
  },
  {
   "cell_type": "code",
   "execution_count": 24,
   "id": "28b8aae0",
   "metadata": {},
   "outputs": [
    {
     "name": "stdout",
     "output_type": "stream",
     "text": [
      "The first non-repeating character is: e\n"
     ]
    }
   ],
   "source": [
    "def find_first_non_repeating_char(string):\n",
    "    char_count = {}\n",
    "\n",
    "    # Count the occurrences of each character\n",
    "    for char in string:\n",
    "        char_count[char] = char_count.get(char, 0) + 1\n",
    "\n",
    "    # Find the first character with count 1\n",
    "    for char in string:\n",
    "        if char_count[char] == 1:\n",
    "            return char\n",
    "\n",
    "    # If no non-repeating character is found, return None\n",
    "    return None\n",
    "\n",
    "\n",
    "# Example usage\n",
    "input_string = \"abacddbec\"\n",
    "\n",
    "result = find_first_non_repeating_char(input_string)\n",
    "\n",
    "if result is not None:\n",
    "    print(\"The first non-repeating character is:\", result)\n",
    "else:\n",
    "    print(\"There is no non-repeating character in the string.\")\n"
   ]
  },
  {
   "cell_type": "markdown",
   "id": "a158384c",
   "metadata": {},
   "source": [
    "23. Write a program to find the prime factors of a given number.\n"
   ]
  },
  {
   "cell_type": "code",
   "execution_count": 25,
   "id": "95588684",
   "metadata": {},
   "outputs": [
    {
     "name": "stdout",
     "output_type": "stream",
     "text": [
      "Prime factors of 56 are: [2, 2, 2, 7]\n"
     ]
    }
   ],
   "source": [
    "def find_prime_factors(number):\n",
    "    factors = []\n",
    "    divisor = 2\n",
    "\n",
    "    # Divide the number by 2 repeatedly to get rid of all the factors of 2\n",
    "    while number % divisor == 0:\n",
    "        factors.append(divisor)\n",
    "        number = number // divisor\n",
    "\n",
    "    # Check for prime factors starting from 3\n",
    "    divisor = 3\n",
    "    while divisor * divisor <= number:\n",
    "        if number % divisor == 0:\n",
    "            factors.append(divisor)\n",
    "            number = number // divisor\n",
    "        else:\n",
    "            divisor += 2\n",
    "\n",
    "    # If the remaining number is greater than 1, it is a prime factor\n",
    "    if number > 1:\n",
    "        factors.append(number)\n",
    "\n",
    "    return factors\n",
    "\n",
    "\n",
    "# Example usage\n",
    "input_number = 56\n",
    "\n",
    "result = find_prime_factors(input_number)\n",
    "\n",
    "print(\"Prime factors of\", input_number, \"are:\", result)\n"
   ]
  },
  {
   "cell_type": "markdown",
   "id": "95fd372c",
   "metadata": {},
   "source": [
    "24. Implement a function to check if a given number is a power of two.\n"
   ]
  },
  {
   "cell_type": "code",
   "execution_count": 27,
   "id": "a101ea60",
   "metadata": {},
   "outputs": [
    {
     "name": "stdout",
     "output_type": "stream",
     "text": [
      "16 is a power of two: True\n"
     ]
    }
   ],
   "source": [
    "def is_power_of_two(number):\n",
    "    if number <= 0:\n",
    "        return False\n",
    "\n",
    "    # Keep dividing the number by 2 until it becomes 1\n",
    "    while number > 1:\n",
    "        if number % 2 != 0:\n",
    "            return False\n",
    "        number = number // 2\n",
    "\n",
    "    return True\n",
    "number = 16\n",
    "result = is_power_of_two(number)\n",
    "print(f\"{number} is a power of two: {result}\")\n"
   ]
  },
  {
   "cell_type": "markdown",
   "id": "c0573e97",
   "metadata": {},
   "source": [
    "25. Write a Python program to merge two sorted lists into a single sorted list.\n"
   ]
  },
  {
   "cell_type": "code",
   "execution_count": 29,
   "id": "cb1ff26a",
   "metadata": {},
   "outputs": [
    {
     "name": "stdout",
     "output_type": "stream",
     "text": [
      "Merged List: [1, 2, 3, 4, 5, 6, 7, 8]\n"
     ]
    }
   ],
   "source": [
    "def merge_sorted_lists(list1, list2):\n",
    "    merged_list = []\n",
    "    i = 0  # Index for list1\n",
    "    j = 0  # Index for list2\n",
    "\n",
    "    while i < len(list1) and j < len(list2):\n",
    "        if list1[i] <= list2[j]:\n",
    "            merged_list.append(list1[i])\n",
    "            i += 1\n",
    "        else:\n",
    "            merged_list.append(list2[j])\n",
    "            j += 1\n",
    "\n",
    "    # Append remaining elements from list1, if any\n",
    "    while i < len(list1):\n",
    "        merged_list.append(list1[i])\n",
    "        i += 1\n",
    "\n",
    "    # Append remaining elements from list2, if any\n",
    "    while j < len(list2):\n",
    "        merged_list.append(list2[j])\n",
    "        j += 1\n",
    "\n",
    "    return merged_list\n",
    "list1 = [1, 3, 5, 7]\n",
    "list2 = [2, 4, 6, 8]\n",
    "merged = merge_sorted_lists(list1, list2)\n",
    "print(\"Merged List:\", merged)\n"
   ]
  },
  {
   "cell_type": "markdown",
   "id": "5e8ec34a",
   "metadata": {},
   "source": [
    "26. Implement a function to find the mode of a list of numbers.\n"
   ]
  },
  {
   "cell_type": "code",
   "execution_count": 30,
   "id": "76d62cb4",
   "metadata": {},
   "outputs": [
    {
     "name": "stdout",
     "output_type": "stream",
     "text": [
      "Mode(s): [2, 6]\n"
     ]
    }
   ],
   "source": [
    "from collections import Counter\n",
    "\n",
    "def find_mode(numbers):\n",
    "    count = Counter(numbers)\n",
    "    max_count = max(count.values())\n",
    "    modes = [num for num, freq in count.items() if freq == max_count]\n",
    "\n",
    "    if len(modes) == len(numbers):\n",
    "        return None  # No mode exists\n",
    "    else:\n",
    "        return modes\n",
    "numbers = [1, 2, 3, 4, 2, 2, 5, 4, 6, 6, 6]\n",
    "mode_list = find_mode(numbers)\n",
    "print(\"Mode(s):\", mode_list)\n"
   ]
  },
  {
   "cell_type": "markdown",
   "id": "9e852f69",
   "metadata": {},
   "source": [
    "27. Write a program to find the greatest common divisor (GCD) of two numbers.\n"
   ]
  },
  {
   "cell_type": "code",
   "execution_count": 31,
   "id": "9f47cb1a",
   "metadata": {},
   "outputs": [
    {
     "name": "stdout",
     "output_type": "stream",
     "text": [
      "GCD: 12\n"
     ]
    }
   ],
   "source": [
    "def gcd(a, b):\n",
    "    while b != 0:\n",
    "        a, b = b, a % b\n",
    "    return a\n",
    "num1 = 24\n",
    "num2 = 36\n",
    "result = gcd(num1, num2)\n",
    "print(\"GCD:\", result)\n"
   ]
  },
  {
   "cell_type": "markdown",
   "id": "f3b3c4d3",
   "metadata": {},
   "source": [
    "28. Implement a function to calculate the square root of a given number.\n"
   ]
  },
  {
   "cell_type": "code",
   "execution_count": 32,
   "id": "4e816dc4",
   "metadata": {},
   "outputs": [
    {
     "name": "stdout",
     "output_type": "stream",
     "text": [
      "Square root: 5.0\n"
     ]
    }
   ],
   "source": [
    "import math\n",
    "\n",
    "def calculate_square_root(number):\n",
    "    if number < 0:\n",
    "        return \"Square root is not defined for negative numbers.\"\n",
    "    else:\n",
    "        return math.sqrt(number)\n",
    "number = 25\n",
    "result = calculate_square_root(number)\n",
    "print(\"Square root:\", result)\n"
   ]
  },
  {
   "cell_type": "markdown",
   "id": "ee6c6112",
   "metadata": {},
   "source": [
    "29. Write a Python program to check if a given string is a valid palindrome ignoring non-alphanumeric characters.\n"
   ]
  },
  {
   "cell_type": "code",
   "execution_count": 33,
   "id": "b3881796",
   "metadata": {},
   "outputs": [
    {
     "name": "stdout",
     "output_type": "stream",
     "text": [
      "True\n",
      "False\n"
     ]
    }
   ],
   "source": [
    "import re\n",
    "\n",
    "def is_valid_palindrome(string):\n",
    "    # Remove non-alphanumeric characters and convert to lowercase\n",
    "    cleaned_string = re.sub('[^a-zA-Z0-9]', '', string).lower()\n",
    "    \n",
    "    # Check if the cleaned string is equal to its reverse\n",
    "    return cleaned_string == cleaned_string[::-1]\n",
    "\n",
    "# Test the function\n",
    "string1 = \"A man, a plan, a canal: Panama\"\n",
    "print(is_valid_palindrome(string1))  \n",
    "\n",
    "string2 = \"race a car\"\n",
    "print(is_valid_palindrome(string2))  \n"
   ]
  },
  {
   "cell_type": "markdown",
   "id": "9a697344",
   "metadata": {},
   "source": [
    "30. Implement a function to find the minimum element in a rotated sorted list.\n"
   ]
  },
  {
   "cell_type": "code",
   "execution_count": 34,
   "id": "8d16790b",
   "metadata": {},
   "outputs": [
    {
     "name": "stdout",
     "output_type": "stream",
     "text": [
      "Minimum element: 0\n"
     ]
    }
   ],
   "source": [
    "def find_minimum(nums):\n",
    "    left = 0\n",
    "    right = len(nums) - 1\n",
    "\n",
    "    while left < right:\n",
    "        mid = left + (right - left) // 2\n",
    "\n",
    "        # Check if the mid element is greater than the rightmost element\n",
    "        if nums[mid] > nums[right]:\n",
    "            # Minimum element is in the right half\n",
    "            left = mid + 1\n",
    "        else:\n",
    "            # Minimum element is in the left half or is the mid element\n",
    "            right = mid\n",
    "\n",
    "    # The left index will point to the minimum element\n",
    "    return nums[left]\n",
    "nums = [4, 5, 6, 7, 0, 1, 2]\n",
    "minimum = find_minimum(nums)\n",
    "print(\"Minimum element:\", minimum)  # Output: 0\n"
   ]
  },
  {
   "cell_type": "markdown",
   "id": "d6a3b8ff",
   "metadata": {},
   "source": [
    "31. Write a program to find the sum of all even numbers in a list.\n"
   ]
  },
  {
   "cell_type": "code",
   "execution_count": 35,
   "id": "ae2a4085",
   "metadata": {},
   "outputs": [
    {
     "name": "stdout",
     "output_type": "stream",
     "text": [
      "Sum of even numbers: 30\n"
     ]
    }
   ],
   "source": [
    "def sum_even_numbers(numbers):\n",
    "    # Initialize a variable to store the sum\n",
    "    total = 0\n",
    "\n",
    "    # Iterate over each number in the list\n",
    "    for number in numbers:\n",
    "        # Check if the number is even\n",
    "        if number % 2 == 0:\n",
    "            # Add the even number to the total sum\n",
    "            total += number\n",
    "\n",
    "    return total\n",
    "\n",
    "\n",
    "# Test the function\n",
    "nums = [1, 2, 3, 4, 5, 6, 7, 8, 9, 10]\n",
    "even_sum = sum_even_numbers(nums)\n",
    "print(\"Sum of even numbers:\", even_sum)\n"
   ]
  },
  {
   "cell_type": "markdown",
   "id": "de619ce4",
   "metadata": {},
   "source": [
    "32. Implement a function to calculate the power of a number using recursion.\n"
   ]
  },
  {
   "cell_type": "code",
   "execution_count": 36,
   "id": "b51e50c5",
   "metadata": {},
   "outputs": [
    {
     "name": "stdout",
     "output_type": "stream",
     "text": [
      "2 raised to the power of 3 is: 8\n"
     ]
    }
   ],
   "source": [
    "def power(base, exponent):\n",
    "    # Base case: when exponent is 0, return 1\n",
    "    if exponent == 0:\n",
    "        return 1\n",
    "\n",
    "    # Recursive case: multiply base with power(base, exponent - 1)\n",
    "    return base * power(base, exponent - 1)\n",
    "\n",
    "\n",
    "# Test the function\n",
    "base = 2\n",
    "exponent = 3\n",
    "result = power(base, exponent)\n",
    "print(f\"{base} raised to the power of {exponent} is: {result}\")\n"
   ]
  },
  {
   "cell_type": "markdown",
   "id": "4a17fc60",
   "metadata": {},
   "source": [
    "33. Write a Python program to remove duplicates from a list while preserving the order.\n"
   ]
  },
  {
   "cell_type": "code",
   "execution_count": 37,
   "id": "369778a4",
   "metadata": {},
   "outputs": [
    {
     "name": "stdout",
     "output_type": "stream",
     "text": [
      "Original List: [1, 2, 3, 2, 4, 3, 5, 6, 5, 4]\n",
      "List with Duplicates Removed: [1, 2, 3, 4, 5, 6]\n"
     ]
    }
   ],
   "source": [
    "def remove_duplicates(lst):\n",
    "    # Create an empty list to store the unique elements\n",
    "    unique_list = []\n",
    "\n",
    "    # Iterate over the original list\n",
    "    for item in lst:\n",
    "        # If the item is not already in the unique_list, add it\n",
    "        if item not in unique_list:\n",
    "            unique_list.append(item)\n",
    "\n",
    "    return unique_list\n",
    "\n",
    "\n",
    "# Test the function\n",
    "my_list = [1, 2, 3, 2, 4, 3, 5, 6, 5, 4]\n",
    "result = remove_duplicates(my_list)\n",
    "print(\"Original List:\", my_list)\n",
    "print(\"List with Duplicates Removed:\", result)\n"
   ]
  },
  {
   "cell_type": "markdown",
   "id": "b04d1468",
   "metadata": {},
   "source": [
    "34. Implement a function to find the longest common prefix among a list of strings.\n"
   ]
  },
  {
   "cell_type": "code",
   "execution_count": 39,
   "id": "da49129b",
   "metadata": {},
   "outputs": [
    {
     "name": "stdout",
     "output_type": "stream",
     "text": [
      "List of Strings: ['flower', 'flow', 'flight']\n",
      "Longest Common Prefix: fl\n"
     ]
    }
   ],
   "source": [
    "def longest_common_prefix(strs):\n",
    "    if not strs:  # Check if the list is empty\n",
    "        return \"\"  # Return an empty string\n",
    "\n",
    "    # Find the minimum length among the strings in the list\n",
    "    min_length = min(len(s) for s in strs)\n",
    "\n",
    "    # Compare characters at corresponding positions\n",
    "    for i in range(min_length):\n",
    "        char = strs[0][i]  # Get the character from the first string\n",
    "\n",
    "        # Check if the character matches in all strings\n",
    "        if all(s[i] == char for s in strs):\n",
    "            continue  # Move to the next character\n",
    "\n",
    "        # If a mismatch is found, return the common prefix\n",
    "        return strs[0][:i]\n",
    "\n",
    "    # If all characters match until the minimum length, return the common prefix\n",
    "    return strs[0][:min_length]\n",
    "\n",
    "\n",
    "# Test the function\n",
    "strings = [\"flower\", \"flow\", \"flight\"]\n",
    "result = longest_common_prefix(strings)\n",
    "print(\"List of Strings:\", strings)\n",
    "print(\"Longest Common Prefix:\", result)\n"
   ]
  },
  {
   "cell_type": "markdown",
   "id": "d38efc0f",
   "metadata": {},
   "source": [
    "35. Write a program to check if a given number is a perfect square.\n"
   ]
  },
  {
   "cell_type": "code",
   "execution_count": 41,
   "id": "fafb2be6",
   "metadata": {},
   "outputs": [
    {
     "name": "stdout",
     "output_type": "stream",
     "text": [
      "Enter a number: 81\n",
      "Is a Perfect Square: True\n"
     ]
    }
   ],
   "source": [
    "def is_perfect_square(num):\n",
    "    if num < 0:\n",
    "        return False  # Negative numbers are not perfect squares\n",
    "    elif num == 0:\n",
    "        return True  # Zero is a perfect square\n",
    "\n",
    "    # Calculate the square root of the number\n",
    "    sqrt_num = int(num ** 0.5)\n",
    "\n",
    "    # Check if the square root is an integer\n",
    "    return sqrt_num * sqrt_num == num\n",
    "\n",
    "\n",
    "# Test the function\n",
    "number = int(input(\"Enter a number: \"))\n",
    "result = is_perfect_square(number)\n",
    "print(\"Is a Perfect Square:\", result)\n"
   ]
  },
  {
   "cell_type": "markdown",
   "id": "d7f9c1a0",
   "metadata": {},
   "source": [
    "36. Implement a function to calculate the product of all elements in a list.\n"
   ]
  },
  {
   "cell_type": "code",
   "execution_count": 42,
   "id": "8c072aa8",
   "metadata": {},
   "outputs": [
    {
     "name": "stdout",
     "output_type": "stream",
     "text": [
      "Product: 120\n"
     ]
    }
   ],
   "source": [
    "def calculate_product(numbers):\n",
    "    product = 1\n",
    "    for num in numbers:\n",
    "        product *= num\n",
    "    return product\n",
    "\n",
    "# Test the function\n",
    "data = [2, 3, 4, 5]\n",
    "result = calculate_product(data)\n",
    "print(\"Product:\", result)\n"
   ]
  },
  {
   "cell_type": "markdown",
   "id": "28528e62",
   "metadata": {},
   "source": [
    "37. Write a Python program to reverse the order of words in a sentence while preserving the word order.\n"
   ]
  },
  {
   "cell_type": "code",
   "execution_count": 43,
   "id": "eb097c1a",
   "metadata": {},
   "outputs": [
    {
     "name": "stdout",
     "output_type": "stream",
     "text": [
      "Reversed Sentence: you? are how world, Hello\n"
     ]
    }
   ],
   "source": [
    "def reverse_words(sentence):\n",
    "    # Split the sentence into words\n",
    "    words = sentence.split()\n",
    "\n",
    "    # Reverse the order of words\n",
    "    reversed_words = words[::-1]\n",
    "\n",
    "    # Join the reversed words back into a sentence\n",
    "    reversed_sentence = ' '.join(reversed_words)\n",
    "\n",
    "    return reversed_sentence\n",
    "\n",
    "# Test the function\n",
    "input_sentence = \"Hello world, how are you?\"\n",
    "reversed_sentence = reverse_words(input_sentence)\n",
    "print(\"Reversed Sentence:\", reversed_sentence)\n"
   ]
  },
  {
   "cell_type": "markdown",
   "id": "8ae913c4",
   "metadata": {},
   "source": [
    "38. Implement a function to find the missing number in a given list of consecutive numbers.\n"
   ]
  },
  {
   "cell_type": "code",
   "execution_count": 44,
   "id": "fca4e922",
   "metadata": {},
   "outputs": [
    {
     "name": "stdout",
     "output_type": "stream",
     "text": [
      "Missing Number: 4\n"
     ]
    }
   ],
   "source": [
    "def find_missing_number(numbers):\n",
    "    n = len(numbers) + 1\n",
    "    expected_sum = n * (n + 1) // 2\n",
    "    actual_sum = sum(numbers)\n",
    "    missing_number = expected_sum - actual_sum\n",
    "    return missing_number\n",
    "\n",
    "# Test the function\n",
    "number_list = [1, 2, 3, 5, 6, 7, 8, 9]\n",
    "missing_number = find_missing_number(number_list)\n",
    "print(\"Missing Number:\", missing_number)\n"
   ]
  },
  {
   "cell_type": "markdown",
   "id": "39882fcd",
   "metadata": {},
   "source": [
    "39. Write a program to find the sum of digits of a given number.\n"
   ]
  },
  {
   "cell_type": "code",
   "execution_count": 45,
   "id": "21530605",
   "metadata": {},
   "outputs": [
    {
     "name": "stdout",
     "output_type": "stream",
     "text": [
      "Sum of Digits: 15\n"
     ]
    }
   ],
   "source": [
    "def sum_of_digits(number):\n",
    "    # Convert the number to a string\n",
    "    number_str = str(number)\n",
    "\n",
    "    # Initialize the sum to 0\n",
    "    digit_sum = 0\n",
    "\n",
    "    # Iterate through each digit in the number\n",
    "    for digit in number_str:\n",
    "        # Convert the digit back to an integer and add it to the sum\n",
    "        digit_sum += int(digit)\n",
    "\n",
    "    # Return the sum of digits\n",
    "    return digit_sum\n",
    "\n",
    "# Test the function\n",
    "number = 12345\n",
    "result = sum_of_digits(number)\n",
    "print(\"Sum of Digits:\", result)\n"
   ]
  },
  {
   "cell_type": "markdown",
   "id": "61c13fd6",
   "metadata": {},
   "source": [
    "40. Implement a function to check if a given string is a valid palindrome considering case sensitivity.\n"
   ]
  },
  {
   "cell_type": "code",
   "execution_count": 46,
   "id": "ab365d69",
   "metadata": {},
   "outputs": [
    {
     "name": "stdout",
     "output_type": "stream",
     "text": [
      "True\n",
      "False\n"
     ]
    }
   ],
   "source": [
    "def is_palindrome(string):\n",
    "    # Remove whitespace and convert to lowercase\n",
    "    string = string.replace(\" \", \"\").lower()\n",
    "    # Compare the string with its reverse\n",
    "    return string == string[::-1]\n",
    "\n",
    "# Test the function\n",
    "string = \"level\"\n",
    "result = is_palindrome(string)\n",
    "print(result)  \n",
    "\n",
    "string = \"Hello\"\n",
    "result = is_palindrome(string)\n",
    "print(result)  \n"
   ]
  },
  {
   "cell_type": "markdown",
   "id": "c46eaf9e",
   "metadata": {},
   "source": [
    "41. Write a Python program to find the smallest missing positive integer in a list.\n"
   ]
  },
  {
   "cell_type": "code",
   "execution_count": 47,
   "id": "d665d893",
   "metadata": {},
   "outputs": [
    {
     "name": "stdout",
     "output_type": "stream",
     "text": [
      "2\n",
      "3\n"
     ]
    }
   ],
   "source": [
    "def find_missing_positive(nums):\n",
    "    n = len(nums)\n",
    "\n",
    "    # Step 1: Segregate positive numbers to the left side of the list\n",
    "    i = 0\n",
    "    while i < n:\n",
    "        if nums[i] > 0 and nums[i] <= n and nums[nums[i] - 1] != nums[i]:\n",
    "            nums[nums[i] - 1], nums[i] = nums[i], nums[nums[i] - 1]\n",
    "        else:\n",
    "            i += 1\n",
    "\n",
    "    # Step 2: Find the first missing positive integer\n",
    "    for i in range(n):\n",
    "        if nums[i] != i + 1:\n",
    "            return i + 1\n",
    "\n",
    "    # If all positive integers from 1 to n are present, the missing integer is n + 1\n",
    "    return n + 1\n",
    "\n",
    "# Test the program\n",
    "nums = [3, 4, -1, 1]\n",
    "result = find_missing_positive(nums)\n",
    "print(result)  # Output: 2\n",
    "\n",
    "nums = [1, 2, 0]\n",
    "result = find_missing_positive(nums)\n",
    "print(result)  # Output: 3\n"
   ]
  },
  {
   "cell_type": "markdown",
   "id": "8c93442a",
   "metadata": {},
   "source": [
    "42. Implement a function to find the longest palindrome substring in a given string.\n"
   ]
  },
  {
   "cell_type": "code",
   "execution_count": 48,
   "id": "23e3a717",
   "metadata": {},
   "outputs": [
    {
     "name": "stdout",
     "output_type": "stream",
     "text": [
      "bab\n",
      "bb\n"
     ]
    }
   ],
   "source": [
    "def longest_palindrome(s):\n",
    "    if len(s) < 2:\n",
    "        return s\n",
    "\n",
    "    start = 0\n",
    "    max_length = 1\n",
    "\n",
    "    def expand_around_center(left, right):\n",
    "        while left >= 0 and right < len(s) and s[left] == s[right]:\n",
    "            left -= 1\n",
    "            right += 1\n",
    "        return right - left - 1\n",
    "\n",
    "    for i in range(len(s)):\n",
    "        length_odd = expand_around_center(i, i)\n",
    "        length_even = expand_around_center(i, i + 1)\n",
    "        length = max(length_odd, length_even)\n",
    "\n",
    "        if length > max_length:\n",
    "            max_length = length\n",
    "            start = i - (length - 1) // 2\n",
    "\n",
    "    return s[start:start + max_length]\n",
    "\n",
    "# Test the function\n",
    "s = \"babad\"\n",
    "result = longest_palindrome(s)\n",
    "print(result)  # Output: \"bab\"\n",
    "\n",
    "s = \"cbbd\"\n",
    "result = longest_palindrome(s)\n",
    "print(result)  # Output: \"bb\"\n"
   ]
  },
  {
   "cell_type": "markdown",
   "id": "bc37bbfe",
   "metadata": {},
   "source": [
    "43. Write a program to find the number of occurrences of a given element in a list.\n"
   ]
  },
  {
   "cell_type": "code",
   "execution_count": 49,
   "id": "7d9123e3",
   "metadata": {},
   "outputs": [
    {
     "name": "stdout",
     "output_type": "stream",
     "text": [
      "4\n"
     ]
    }
   ],
   "source": [
    "def count_occurrences(lst, element):\n",
    "    count = 0\n",
    "    for item in lst:\n",
    "        if item == element:\n",
    "            count += 1\n",
    "    return count\n",
    "\n",
    "# Test the function\n",
    "my_list = [1, 2, 3, 4, 2, 2, 5, 2]\n",
    "target_element = 2\n",
    "result = count_occurrences(my_list, target_element)\n",
    "print(result)  # Output: 4\n"
   ]
  },
  {
   "cell_type": "markdown",
   "id": "03756309",
   "metadata": {},
   "source": [
    "44. Implement a function to check if a given number is a perfect number.\n"
   ]
  },
  {
   "cell_type": "code",
   "execution_count": 50,
   "id": "dbcfe5af",
   "metadata": {},
   "outputs": [
    {
     "name": "stdout",
     "output_type": "stream",
     "text": [
      "True\n",
      "True\n",
      "False\n"
     ]
    }
   ],
   "source": [
    "def is_perfect_number(number):\n",
    "    if number <= 0:\n",
    "        return False\n",
    "\n",
    "    divisors = [1]\n",
    "    for i in range(2, int(number ** 0.5) + 1):\n",
    "        if number % i == 0:\n",
    "            divisors.append(i)\n",
    "            if i != number // i:\n",
    "                divisors.append(number // i)\n",
    "\n",
    "    return sum(divisors) == number\n",
    "\n",
    "# Test the function\n",
    "print(is_perfect_number(6))  \n",
    "print(is_perfect_number(28))  \n",
    "print(is_perfect_number(12))  \n"
   ]
  },
  {
   "cell_type": "markdown",
   "id": "81039f3b",
   "metadata": {},
   "source": [
    "45. Write a Python program to remove all duplicates from a string.\n"
   ]
  },
  {
   "cell_type": "code",
   "execution_count": 51,
   "id": "d4c5fe48",
   "metadata": {},
   "outputs": [
    {
     "name": "stdout",
     "output_type": "stream",
     "text": [
      "ehlo\n",
      "cbad\n"
     ]
    }
   ],
   "source": [
    "def remove_duplicates(string):\n",
    "    # Convert the string to a set to remove duplicates\n",
    "    unique_chars = set(string)\n",
    "\n",
    "    # Reconstruct the string without duplicates\n",
    "    result = ''.join(unique_chars)\n",
    "\n",
    "    return result\n",
    "\n",
    "# Test the function\n",
    "input_string = \"hello\"\n",
    "print(remove_duplicates(input_string))  \n",
    "\n",
    "input_string = \"aabbbccdd\"\n",
    "print(remove_duplicates(input_string)) \n"
   ]
  },
  {
   "cell_type": "markdown",
   "id": "11341fd6",
   "metadata": {},
   "source": [
    "46. Implement a function to find the first missing positive"
   ]
  },
  {
   "cell_type": "code",
   "execution_count": 52,
   "id": "c41b7087",
   "metadata": {},
   "outputs": [
    {
     "name": "stdout",
     "output_type": "stream",
     "text": [
      "The first missing positive is: 2\n",
      "The first missing positive is: 3\n"
     ]
    }
   ],
   "source": [
    "def find_missing_positive(nums):\n",
    "    # Move all positive integers to the front of the list\n",
    "    # and store the total count of positive integers\n",
    "    n = len(nums)\n",
    "    j = 0\n",
    "    for i in range(n):\n",
    "        if nums[i] > 0:\n",
    "            nums[i], nums[j] = nums[j], nums[i]\n",
    "            j += 1\n",
    "\n",
    "    # Consider only the positive integers in the modified list\n",
    "    nums = nums[:j]\n",
    "\n",
    "    # Mark the presence of positive integers by modifying the corresponding indices\n",
    "    for num in nums:\n",
    "        index = abs(num) - 1\n",
    "        if index < j:\n",
    "            nums[index] = -abs(nums[index])\n",
    "\n",
    "    # Find the first index that contains a positive value\n",
    "    for i in range(j):\n",
    "        if nums[i] > 0:\n",
    "            return i + 1\n",
    "\n",
    "    # If all indices contain negative values, the first missing positive is j + 1\n",
    "    return j + 1\n",
    "numbers = [3, 4, -1, 1]\n",
    "missing = find_missing_positive(numbers)\n",
    "print(\"The first missing positive is:\", missing)\n",
    "\n",
    "numbers = [1, 2, 0]\n",
    "missing = find_missing_positive(numbers)\n",
    "print(\"The first missing positive is:\", missing)\n"
   ]
  }
 ],
 "metadata": {
  "kernelspec": {
   "display_name": "Python 3 (ipykernel)",
   "language": "python",
   "name": "python3"
  },
  "language_info": {
   "codemirror_mode": {
    "name": "ipython",
    "version": 3
   },
   "file_extension": ".py",
   "mimetype": "text/x-python",
   "name": "python",
   "nbconvert_exporter": "python",
   "pygments_lexer": "ipython3",
   "version": "3.9.13"
  }
 },
 "nbformat": 4,
 "nbformat_minor": 5
}
