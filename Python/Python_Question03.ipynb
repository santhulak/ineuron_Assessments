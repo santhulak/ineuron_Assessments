{
 "cells": [
  {
   "cell_type": "code",
   "execution_count": 1,
   "id": "925d2c27",
   "metadata": {},
   "outputs": [],
   "source": [
    "import pandas as pd\n",
    "import requests\n",
    "from openpyxl.workbook import Workbook"
   ]
  },
  {
   "cell_type": "code",
   "execution_count": 2,
   "id": "f8eb0b4d",
   "metadata": {},
   "outputs": [],
   "source": [
    "# Function to download the data from the given URL\n",
    "def download_data(url):\n",
    "    response = requests.get(url)\n",
    "    data = response.json()\n",
    "    return data\n"
   ]
  },
  {
   "cell_type": "code",
   "execution_count": 7,
   "id": "f5598fd6",
   "metadata": {},
   "outputs": [],
   "source": [
    "# Function to process the data and convert it into a structured format\n",
    "def process_data(data):\n",
    "    structured_data = []\n",
    "    for pokemon in data[\"pokemon\"]:\n",
    "        pokemon_info = {\n",
    "            \"id\": pokemon[\"id\"],\n",
    "            \"num\": pokemon[\"num\"],\n",
    "            \"name\": pokemon[\"name\"],\n",
    "            \"img\": pokemon[\"img\"],\n",
    "            \"type\": \", \".join(pokemon[\"type\"]),\n",
    "            \"height\": pokemon[\"height\"],\n",
    "            \"weight\": pokemon[\"weight\"],\n",
    "            \"candy\": pokemon.get(\"candy\", \"\"),\n",
    "            \"candy_count\": pokemon.get(\"candy_count\", \"\"),\n",
    "            \"egg\": pokemon.get(\"egg\", \"\"),\n",
    "            \"spawn_chance\": pokemon.get(\"spawn_chance\", \"\"),\n",
    "            \"avg_spawns\": pokemon.get(\"avg_spawns\", \"\"),\n",
    "            \"spawn_time\": pokemon.get(\"spawn_time\", \"\"),\n",
    "            \"multipliers\": \", \".join(map(str, pokemon.get(\"multipliers\", []))) if pokemon.get(\"multipliers\") else \"\",\n",
    "            \"weakness\": \", \".join(pokemon.get(\"weaknesses\", [])),\n",
    "            \"next_evolution\": \", \".join(\n",
    "                [evolution[\"name\"] for evolution in pokemon.get(\"next_evolution\", [])]\n",
    "            ),\n",
    "            \"prev_evolution\": \", \".join(\n",
    "                [evolution[\"name\"] for evolution in pokemon.get(\"prev_evolution\", [])]\n",
    "            ),\n",
    "        }\n",
    "        structured_data.append(pokemon_info)\n",
    "    return structured_data\n",
    "\n",
    "# Function to export the structured data to an Excel file\n",
    "def export_to_excel(data, output_file):\n",
    "    df = pd.DataFrame(data)\n",
    "    df = df.apply(lambda x: x.str.encode(\"utf-8\") if x.dtype == \"object\" else x)\n",
    "    df.to_excel(output_file, index=False,encoding=\"utf-8\")\n",
    "\n"
   ]
  },
  {
   "cell_type": "code",
   "execution_count": 6,
   "id": "d615f347",
   "metadata": {},
   "outputs": [
    {
     "name": "stdout",
     "output_type": "stream",
     "text": [
      "Data has been exported to pokemon_data.xlsx.\n"
     ]
    }
   ],
   "source": [
    "# Main function\n",
    "def main():\n",
    "    url = \"https://raw.githubusercontent.com/Biuni/PokemonGO-Pokedex/master/pokedex.json\"\n",
    "    output_file = \"pokemon_data.xlsx\"\n",
    "\n",
    "    # Download the data\n",
    "    data = download_data(url)\n",
    "\n",
    "    # Process the data\n",
    "    structured_data = process_data(data)\n",
    "\n",
    "    # Export the structured data to Excel\n",
    "    export_to_excel(structured_data, output_file)\n",
    "    print(f\"Data has been exported to {output_file}.\")\n",
    "\n",
    "# Run the program\n",
    "if __name__ == \"__main__\":\n",
    "    main()\n"
   ]
  },
  {
   "cell_type": "code",
   "execution_count": null,
   "id": "37eb2b69",
   "metadata": {},
   "outputs": [],
   "source": []
  }
 ],
 "metadata": {
  "kernelspec": {
   "display_name": "Python 3 (ipykernel)",
   "language": "python",
   "name": "python3"
  },
  "language_info": {
   "codemirror_mode": {
    "name": "ipython",
    "version": 3
   },
   "file_extension": ".py",
   "mimetype": "text/x-python",
   "name": "python",
   "nbconvert_exporter": "python",
   "pygments_lexer": "ipython3",
   "version": "3.9.12"
  }
 },
 "nbformat": 4,
 "nbformat_minor": 5
}
