{
 "cells": [
  {
   "cell_type": "code",
   "execution_count": 2,
   "id": "fb134ebe",
   "metadata": {},
   "outputs": [
    {
     "name": "stderr",
     "output_type": "stream",
     "text": [
      "[nltk_data] Downloading package punkt to\n",
      "[nltk_data]     C:\\Users\\Welcome\\AppData\\Roaming\\nltk_data...\n",
      "[nltk_data]   Unzipping tokenizers\\punkt.zip.\n"
     ]
    },
    {
     "data": {
      "text/plain": [
       "True"
      ]
     },
     "execution_count": 2,
     "metadata": {},
     "output_type": "execute_result"
    }
   ],
   "source": [
    "nltk.download('punkt')"
   ]
  },
  {
   "cell_type": "code",
   "execution_count": 4,
   "id": "45764e5a",
   "metadata": {},
   "outputs": [
    {
     "name": "stderr",
     "output_type": "stream",
     "text": [
      "[nltk_data] Downloading package averaged_perceptron_tagger to\n",
      "[nltk_data]     C:\\Users\\Welcome\\AppData\\Roaming\\nltk_data...\n",
      "[nltk_data]   Unzipping taggers\\averaged_perceptron_tagger.zip.\n"
     ]
    },
    {
     "data": {
      "text/plain": [
       "True"
      ]
     },
     "execution_count": 4,
     "metadata": {},
     "output_type": "execute_result"
    }
   ],
   "source": [
    "import nltk\n",
    "nltk.download('averaged_perceptron_tagger')"
   ]
  },
  {
   "cell_type": "code",
   "execution_count": 6,
   "id": "44dc14af",
   "metadata": {},
   "outputs": [],
   "source": [
    "\n",
    "from nltk.tokenize import word_tokenize\n",
    "from nltk.tag import pos_tag\n",
    "\n"
   ]
  },
  {
   "cell_type": "code",
   "execution_count": 7,
   "id": "6b495b04",
   "metadata": {},
   "outputs": [
    {
     "name": "stdout",
     "output_type": "stream",
     "text": [
      "Text 1 - POS Counts:\n",
      "{'Verbs': 2, 'Nouns': 1, 'Pronouns': 1, 'Adjectives': 0}\n",
      "Text 2 - POS Counts:\n",
      "{'Verbs': 1, 'Nouns': 1, 'Pronouns': 1, 'Adjectives': 1}\n"
     ]
    }
   ],
   "source": [
    "def count_pos_tags(text):\n",
    "    # Tokenize the text into words\n",
    "    words = word_tokenize(text)\n",
    "\n",
    "    # Perform Part-of-Speech (POS) tagging\n",
    "    tagged_words = pos_tag(words)\n",
    "\n",
    "    # Initialize count variables\n",
    "    verb_count = 0\n",
    "    noun_count = 0\n",
    "    pronoun_count = 0\n",
    "    adjective_count = 0\n",
    "\n",
    "    # Iterate through the tagged words and count the different POS tags\n",
    "    for word, tag in tagged_words:\n",
    "        if tag.startswith('V'):  # Verb\n",
    "            verb_count += 1\n",
    "        elif tag.startswith('N'):  # Noun\n",
    "            noun_count += 1\n",
    "        elif tag.startswith('PRP'):  # Pronoun\n",
    "            pronoun_count += 1\n",
    "        elif tag.startswith('JJ'):  # Adjective\n",
    "            adjective_count += 1\n",
    "\n",
    "    # Create a dictionary to store the counts\n",
    "    pos_counts = {\n",
    "        \"Verbs\": verb_count,\n",
    "        \"Nouns\": noun_count,\n",
    "        \"Pronouns\": pronoun_count,\n",
    "        \"Adjectives\": adjective_count\n",
    "    }\n",
    "\n",
    "    return pos_counts\n",
    "\n",
    "# Test Cases\n",
    "text1 = \"I love eating pizza\"\n",
    "text2 = \"She runs quickly and jumps high\"\n",
    "\n",
    "# Count POS tags in the first text\n",
    "pos_counts1 = count_pos_tags(text1)\n",
    "print(\"Text 1 - POS Counts:\")\n",
    "print(pos_counts1)\n",
    "\n",
    "# Count POS tags in the second text\n",
    "pos_counts2 = count_pos_tags(text2)\n",
    "print(\"Text 2 - POS Counts:\")\n",
    "print(pos_counts2)\n"
   ]
  },
  {
   "cell_type": "code",
   "execution_count": null,
   "id": "989934b6",
   "metadata": {},
   "outputs": [],
   "source": []
  }
 ],
 "metadata": {
  "kernelspec": {
   "display_name": "Python 3 (ipykernel)",
   "language": "python",
   "name": "python3"
  },
  "language_info": {
   "codemirror_mode": {
    "name": "ipython",
    "version": 3
   },
   "file_extension": ".py",
   "mimetype": "text/x-python",
   "name": "python",
   "nbconvert_exporter": "python",
   "pygments_lexer": "ipython3",
   "version": "3.9.12"
  }
 },
 "nbformat": 4,
 "nbformat_minor": 5
}
