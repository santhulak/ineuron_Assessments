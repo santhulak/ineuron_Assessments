{
 "cells": [
  {
   "cell_type": "code",
   "execution_count": 1,
   "id": "462e4ff6",
   "metadata": {},
   "outputs": [],
   "source": [
    "import requests\n",
    "import matplotlib.pyplot as plt\n"
   ]
  },
  {
   "cell_type": "code",
   "execution_count": 2,
   "id": "7cbd59c0",
   "metadata": {},
   "outputs": [],
   "source": [
    "# Fetch the data from the API\n",
    "response = requests.get(\"http://api.tvmaze.com/singlesearch/shows?q=westworld&embed=episodes\")\n",
    "data = response.json()\n"
   ]
  },
  {
   "cell_type": "code",
   "execution_count": 3,
   "id": "0fb48548",
   "metadata": {},
   "outputs": [],
   "source": [
    "# Get the episodes data\n",
    "episodes = data[\"_embedded\"][\"episodes\"]"
   ]
  },
  {
   "cell_type": "code",
   "execution_count": 4,
   "id": "fec9f8f0",
   "metadata": {},
   "outputs": [],
   "source": [
    "\n",
    "# Get all the overall ratings for each season\n",
    "season_ratings = {}\n",
    "for episode in episodes:\n",
    "    season_number = episode[\"season\"]\n",
    "    rating = episode[\"rating\"][\"average\"]\n",
    "\n",
    "    if season_number in season_ratings:\n",
    "        season_ratings[season_number].append(rating)\n",
    "    else:\n",
    "        season_ratings[season_number] = [rating]"
   ]
  },
  {
   "cell_type": "code",
   "execution_count": 5,
   "id": "4516bb06",
   "metadata": {},
   "outputs": [],
   "source": [
    "\n",
    "# Plot the ratings for each season\n",
    "seasons = sorted(season_ratings.keys())\n",
    "ratings = [season_ratings[season_number] for season_number in seasons]\n"
   ]
  },
  {
   "cell_type": "code",
   "execution_count": 6,
   "id": "cda13421",
   "metadata": {},
   "outputs": [
    {
     "data": {
      "image/png": "[encoded data removed]",
      "text/plain": [
       "<Figure size 1000x600 with 1 Axes>"
      ]
     },
     "metadata": {},
     "output_type": "display_data"
    }
   ],
   "source": [
    "\n",
    "plt.figure(figsize=(10, 6))\n",
    "plt.boxplot(ratings, labels=seasons)\n",
    "plt.title(\"Ratings for Each Season\")\n",
    "plt.xlabel(\"Season\")\n",
    "plt.ylabel(\"Rating\")\n",
    "plt.show()"
   ]
  },
  {
   "cell_type": "code",
   "execution_count": 7,
   "id": "90b9148a",
   "metadata": {},
   "outputs": [
    {
     "name": "stdout",
     "output_type": "stream",
     "text": [
      "Episode names with average rating > 8 for every season:\n",
      "Trompe L'Oeil\n",
      "The Well-Tempered Clavier\n",
      "The Bicameral Mind\n",
      "Trace Decay\n",
      "The Well-Tempered Clavier\n",
      "The Bicameral Mind\n"
     ]
    }
   ],
   "source": [
    "\n",
    "# Get all the episode names with average rating more than 8 for every season\n",
    "highly_rated_episodes = []\n",
    "for season_number in season_ratings:\n",
    "    season_episodes = season_ratings[season_number]\n",
    "    for i, rating in enumerate(season_episodes):\n",
    "        if rating > 8:\n",
    "            highly_rated_episodes.append(episodes[i][\"name\"])\n",
    "\n",
    "print(\"Episode names with average rating > 8 for every season:\")\n",
    "for episode_name in highly_rated_episodes:\n",
    "    print(episode_name)\n",
    "\n"
   ]
  },
  {
   "cell_type": "code",
   "execution_count": 8,
   "id": "f919fc01",
   "metadata": {},
   "outputs": [
    {
     "name": "stdout",
     "output_type": "stream",
     "text": [
      "Episode names that aired before May 2019:\n",
      "The Original\n",
      "Chestnut\n",
      "The Stray\n",
      "Dissonance Theory\n",
      "Contrapasso\n",
      "The Adversary\n",
      "Trompe L'Oeil\n",
      "Trace Decay\n",
      "The Well-Tempered Clavier\n",
      "The Bicameral Mind\n",
      "Journey Into Night\n",
      "Reunion\n",
      "Virtù e Fortuna\n",
      "The Riddle of the Sphinx\n",
      "Akane No Mai\n",
      "Phase Space\n",
      "Les Écorchés\n",
      "Kiksuya\n",
      "Vanishing Point\n",
      "The Passenger\n"
     ]
    }
   ],
   "source": [
    "# Get all the episode names that aired before May 2019\n",
    "episodes_before_may_2019 = []\n",
    "for episode in episodes:\n",
    "    airdate = episode[\"airdate\"]\n",
    "    if airdate < \"2019-05-01\":\n",
    "        episodes_before_may_2019.append(episode[\"name\"])\n",
    "\n",
    "print(\"Episode names that aired before May 2019:\")\n",
    "for episode_name in episodes_before_may_2019:\n",
    "    print(episode_name)\n",
    "\n"
   ]
  },
  {
   "cell_type": "code",
   "execution_count": 9,
   "id": "e8077a94",
   "metadata": {},
   "outputs": [
    {
     "name": "stdout",
     "output_type": "stream",
     "text": [
      "Episode with the highest rating in each season:\n",
      "Season 1: The Bicameral Mind\n",
      "Season 2: Trace Decay\n",
      "Season 3: The Original\n",
      "Season 4: Contrapasso\n",
      "Episode with the lowest rating in each season:\n",
      "Season 1: The Stray\n",
      "Season 2: Contrapasso\n",
      "Season 3: The Adversary\n",
      "Season 4: The Original\n"
     ]
    }
   ],
   "source": [
    "# Get the episode name from each season with the highest and lowest rating\n",
    "season_high_ratings = {}\n",
    "season_low_ratings = {}\n",
    "for season_number in season_ratings:\n",
    "    season_episodes = season_ratings[season_number]\n",
    "    highest_rating = max(season_episodes)\n",
    "    lowest_rating = min(season_episodes)\n",
    "    episode_index_with_highest_rating = season_episodes.index(highest_rating)\n",
    "    episode_index_with_lowest_rating = season_episodes.index(lowest_rating)\n",
    "\n",
    "    season_high_ratings[season_number] = episodes[episode_index_with_highest_rating][\"name\"]\n",
    "    season_low_ratings[season_number] = episodes[episode_index_with_lowest_rating][\"name\"]\n",
    "\n",
    "print(\"Episode with the highest rating in each season:\")\n",
    "for season_number in season_high_ratings:\n",
    "    episode_name = season_high_ratings[season_number]\n",
    "    print(f\"Season {season_number}: {episode_name}\")\n",
    "\n",
    "print(\"Episode with the lowest rating in each season:\")\n",
    "for season_number in season_low_ratings:\n",
    "    episode_name = season_low_ratings[season_number]\n",
    "    print(f\"Season {season_number}: {episode_name}\")\n",
    "\n",
    "\n"
   ]
  },
  {
   "cell_type": "code",
   "execution_count": 10,
   "id": "4b786e7b",
   "metadata": {},
   "outputs": [
    {
     "name": "stdout",
     "output_type": "stream",
     "text": [
      "Summary for the most popular episode in each season:\n",
      "Season 1: <p>Delores finds out the truth about William's fate. Meanwhile, Maeve organizes an escape plan, only to discover that someone else is pulling the strings. And Robert plays the final piece in his grand narrative.</p>\n",
      "Season 2: <p>Bernard tries to cope with what he did under Robert's orders. Meanwhile, William and Dolores find a town, and Maeve remembers more of her past. Meanwhile, the Man reveals his past to Teddy.</p>\n",
      "Season 3: <p>A woman named Dolores is a free spirit in the Old West... and unaware that she's actually an android, programmed to entertain rich guests seeking to act out their fantasies in an idealized vision of the 1880s. However, the people in charge soon realize that their androids are acting in ways that they didn't anticipate.</p>\n",
      "Season 4: <p>Dolores takes the first step on her path of discovery by deciding to write a new story for herself... where she isn't the damsel. Meanwhile, Elise discovers the Woodcutter's secret, and Robert pays the Man a visit.</p>\n"
     ]
    }
   ],
   "source": [
    "# Get the summary for the most popular episode in every season\n",
    "most_popular_episodes = {}\n",
    "for season_number in season_ratings:\n",
    "    season_episodes = season_ratings[season_number]\n",
    "    most_popular_index = season_episodes.index(max(season_episodes))\n",
    "    most_popular_episodes[season_number] = episodes[most_popular_index][\"summary\"]\n",
    "\n",
    "print(\"Summary for the most popular episode in each season:\")\n",
    "for season_number in most_popular_episodes:\n",
    "    episode_summary = most_popular_episodes[season_number]\n",
    "    print(f\"Season {season_number}: {episode_summary}\")"
   ]
  },
  {
   "cell_type": "code",
   "execution_count": null,
   "id": "b277c224",
   "metadata": {},
   "outputs": [],
   "source": []
  }
 ],
 "metadata": {
  "kernelspec": {
   "display_name": "Python 3 (ipykernel)",
   "language": "python",
   "name": "python3"
  },
  "language_info": {
   "codemirror_mode": {
    "name": "ipython",
    "version": 3
   },
   "file_extension": ".py",
   "mimetype": "text/x-python",
   "name": "python",
   "nbconvert_exporter": "python",
   "pygments_lexer": "ipython3",
   "version": "3.9.13"
  }
 },
 "nbformat": 4,
 "nbformat_minor": 5
}
